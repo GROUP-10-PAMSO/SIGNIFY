{
 "cells": [
  {
   "cell_type": "code",
   "execution_count": 13,
   "metadata": {
    "_cell_guid": "b1076dfc-b9ad-4769-8c92-a6c4dae69d19",
    "_uuid": "8f2839f25d086af736a60e9eeb907d3b93b6e0e5",
    "execution": {
     "iopub.execute_input": "2021-01-20T14:42:21.666797Z",
     "iopub.status.busy": "2021-01-20T14:42:21.664205Z",
     "iopub.status.idle": "2021-01-20T14:42:21.668662Z",
     "shell.execute_reply": "2021-01-20T14:42:21.669134Z"
    },
    "papermill": {
     "duration": 0.016596,
     "end_time": "2021-01-20T14:42:21.669294",
     "exception": false,
     "start_time": "2021-01-20T14:42:21.652698",
     "status": "completed"
    },
    "tags": []
   },
   "outputs": [],
   "source": [
    "import numpy as np # linear algebra\n",
    "import tensorflow as tf\n",
    "import pandas as pd # data processing, CSV file I/O (e.g. pd.read_csv)\n",
    "import matplotlib.pyplot as plt"
   ]
  },
  {
   "cell_type": "code",
   "execution_count": 14,
   "metadata": {
    "execution": {
     "iopub.execute_input": "2021-01-20T14:42:22.316990Z",
     "iopub.status.busy": "2021-01-20T14:42:22.316325Z",
     "iopub.status.idle": "2021-01-20T14:42:22.420939Z",
     "shell.execute_reply": "2021-01-20T14:42:22.420409Z"
    },
    "papermill": {
     "duration": 0.120874,
     "end_time": "2021-01-20T14:42:22.421073",
     "exception": false,
     "start_time": "2021-01-20T14:42:22.300199",
     "status": "completed"
    },
    "tags": []
   },
   "outputs": [],
   "source": [
    "import glob\n",
    "gen = [glob.glob('sign_data_ver2/Dataset_Signature_Final/Dataset/dataset1/real/*.*'),\n",
    "       glob.glob('sign_data_ver2/Dataset_Signature_Final/Dataset/dataset2/real/*.*'),\n",
    "       glob.glob('sign_data_ver2/Dataset_Signature_Final/Dataset/dataset3/real/*.*'),\n",
    "       glob.glob('sign_data_ver2/Dataset_Signature_Final/Dataset/dataset4/real1/*.*')]\n",
    "                 \n",
    "forg = [glob.glob('sign_data_ver2/Dataset_Signature_Final/Dataset/dataset1/forge/*.*'),\n",
    "        glob.glob('sign_data_ver2/Dataset_Signature_Final/Dataset/dataset2/forge/*.*'),\n",
    "        glob.glob('sign_data_ver2/Dataset_Signature_Final/Dataset/dataset3/forge/*.*'),\n",
    "        glob.glob('sign_data_ver2/Dataset_Signature_Final/Dataset/dataset4/forge/*.*')]"
   ]
  },
  {
   "cell_type": "code",
   "execution_count": 15,
   "metadata": {
    "execution": {
     "iopub.execute_input": "2021-01-20T14:42:22.454529Z",
     "iopub.status.busy": "2021-01-20T14:42:22.453836Z",
     "iopub.status.idle": "2021-01-20T14:42:40.243891Z",
     "shell.execute_reply": "2021-01-20T14:42:40.243292Z"
    },
    "papermill": {
     "duration": 17.812573,
     "end_time": "2021-01-20T14:42:40.244014",
     "exception": false,
     "start_time": "2021-01-20T14:42:22.431441",
     "status": "completed"
    },
    "tags": []
   },
   "outputs": [],
   "source": [
    "import glob\n",
    "import keras\n",
    "import cv2\n",
    "\n",
    "train_data = []\n",
    "train_labels = []\n",
    "\n",
    "test_data = []\n",
    "test_labels = []\n",
    "\n",
    "for data in range(len(gen)):\n",
    "    for i in gen[data]:\n",
    "        if data == 3:\n",
    "            image = cv2.imread(i)\n",
    "            image = cv2.cvtColor(image, cv2.COLOR_BGR2RGB)\n",
    "            image = cv2.resize(image, (224, 224))\n",
    "            test_data.append(image)\n",
    "            test_labels.append(0)\n",
    "        else:\n",
    "            image = cv2.imread(i)\n",
    "            image = cv2.cvtColor(image, cv2.COLOR_BGR2RGB)\n",
    "            image = cv2.resize(image, (224, 224))\n",
    "            train_data.append(image)\n",
    "            train_labels.append(0) #genuine = 0\n",
    "        \n",
    "for data in range(len(forg)):\n",
    "    for j in forg[data]:\n",
    "        if data == 3:\n",
    "            image = cv2.imread(j)\n",
    "            image = cv2.cvtColor(image, cv2.COLOR_BGR2RGB)\n",
    "            image = cv2.resize(image, (224, 224))\n",
    "            test_data.append(image)\n",
    "            test_labels.append(1)\n",
    "        else:\n",
    "            image = cv2.imread(j)\n",
    "            image = cv2.cvtColor(image, cv2.COLOR_BGR2RGB)\n",
    "            image = cv2.resize(image, (224, 224))\n",
    "            train_data.append(image)\n",
    "            train_labels.append(1) #forged = 1\n",
    "\n",
    "train_data = np.array(train_data)/255.0\n",
    "train_labels = np.array(train_labels)\n",
    "\n",
    "test_data = np.array(test_data)/255.0\n",
    "test_labels = np.array(test_labels)"
   ]
  },
  {
   "cell_type": "code",
   "execution_count": 16,
   "metadata": {
    "execution": {
     "iopub.execute_input": "2021-01-20T14:42:40.269811Z",
     "iopub.status.busy": "2021-01-20T14:42:40.269126Z",
     "iopub.status.idle": "2021-01-20T14:42:40.273215Z",
     "shell.execute_reply": "2021-01-20T14:42:40.272664Z"
    },
    "papermill": {
     "duration": 0.019085,
     "end_time": "2021-01-20T14:42:40.273345",
     "exception": false,
     "start_time": "2021-01-20T14:42:40.254260",
     "status": "completed"
    },
    "tags": []
   },
   "outputs": [
    {
     "data": {
      "text/plain": [
       "(540, 224, 224, 3)"
      ]
     },
     "execution_count": 16,
     "metadata": {},
     "output_type": "execute_result"
    }
   ],
   "source": [
    "train_data.shape"
   ]
  },
  {
   "cell_type": "code",
   "execution_count": 17,
   "metadata": {
    "execution": {
     "iopub.execute_input": "2021-01-20T14:42:40.300980Z",
     "iopub.status.busy": "2021-01-20T14:42:40.300309Z",
     "iopub.status.idle": "2021-01-20T14:42:41.452888Z",
     "shell.execute_reply": "2021-01-20T14:42:41.452235Z"
    },
    "papermill": {
     "duration": 1.168968,
     "end_time": "2021-01-20T14:42:41.453021",
     "exception": false,
     "start_time": "2021-01-20T14:42:40.284053",
     "status": "completed"
    },
    "tags": []
   },
   "outputs": [],
   "source": [
    "from sklearn.utils import shuffle\n",
    "train_data,train_labels = shuffle(train_data,train_labels)\n",
    "\n",
    "test_data,test_labels = shuffle(test_data,test_labels)"
   ]
  },
  {
   "cell_type": "code",
   "execution_count": 18,
   "metadata": {},
   "outputs": [],
   "source": [
    "from keras.models import Sequential\n",
    "from keras.layers import Dense, Dropout, Input, Lambda, Flatten, Conv2D, MaxPooling2D, ZeroPadding2D, Conv2D, BatchNormalization\n",
    "# from keras.layers.normalization import Normalization\n",
    "from keras.regularizers import l2\n",
    "from keras_preprocessing.image import ImageDataGenerator\n",
    "from sklearn.metrics import confusion_matrix as CM\n",
    "from keras.optimizers import RMSprop, Adam\n",
    "\n",
    "# Create the base model from the pre-trained model MobileNet V2\n",
    "base_model = tf.keras.applications.MobileNetV2(input_shape=(224, 224, 3),\n",
    "                                               include_top=False,\n",
    "                                               weights='imagenet'\n",
    "                                               )\n",
    "base_model.trainable = False\n",
    "                                               \n",
    "global_average_layer = tf.keras.layers.GlobalAveragePooling2D()\n",
    "prediction_layer = keras.layers.Dense(1)\n",
    "\n",
    "network = tf.keras.Sequential([\n",
    "  base_model,\n",
    "  global_average_layer,\n",
    "  prediction_layer\n",
    "])\n",
    "\n",
    "base_learning_rate = 0.001\n",
    "network.compile(optimizer=tf.keras.optimizers.RMSprop(learning_rate=base_learning_rate),\n",
    "              loss=tf.keras.losses.BinaryCrossentropy(from_logits=True),\n",
    "              metrics=['accuracy'])\n",
    "\n",
    "# network.compile(optimizer=Adam(learning_rate=0.001),loss=\"binary_crossentropy\",metrics=[\"accuracy\"])"
   ]
  },
  {
   "cell_type": "code",
   "execution_count": 19,
   "metadata": {
    "execution": {
     "iopub.execute_input": "2021-01-20T14:42:41.841549Z",
     "iopub.status.busy": "2021-01-20T14:42:41.840796Z",
     "iopub.status.idle": "2021-01-20T14:45:07.130091Z",
     "shell.execute_reply": "2021-01-20T14:45:07.129088Z"
    },
    "papermill": {
     "duration": 145.307584,
     "end_time": "2021-01-20T14:45:07.130272",
     "exception": false,
     "start_time": "2021-01-20T14:42:41.822688",
     "status": "completed"
    },
    "tags": []
   },
   "outputs": [
    {
     "name": "stdout",
     "output_type": "stream",
     "text": [
      "Epoch 1/10\n",
      "513/513 [==============================] - 24s 40ms/step - loss: 0.6775 - accuracy: 0.6101 - val_loss: 0.8806 - val_accuracy: 0.5185\n",
      "Epoch 2/10\n",
      "513/513 [==============================] - 19s 37ms/step - loss: 0.5023 - accuracy: 0.7544 - val_loss: 0.6200 - val_accuracy: 0.6667\n",
      "Epoch 3/10\n",
      "513/513 [==============================] - 19s 38ms/step - loss: 0.4047 - accuracy: 0.8090 - val_loss: 0.5265 - val_accuracy: 0.7037\n",
      "Epoch 4/10\n",
      "513/513 [==============================] - 19s 38ms/step - loss: 0.3381 - accuracy: 0.8519 - val_loss: 0.5754 - val_accuracy: 0.7778\n",
      "Epoch 5/10\n",
      "513/513 [==============================] - 19s 38ms/step - loss: 0.2983 - accuracy: 0.8616 - val_loss: 0.5524 - val_accuracy: 0.7778\n",
      "Epoch 6/10\n",
      "513/513 [==============================] - 19s 37ms/step - loss: 0.2678 - accuracy: 0.8908 - val_loss: 0.5852 - val_accuracy: 0.7037\n",
      "Epoch 6: early stopping\n"
     ]
    }
   ],
   "source": [
    "from keras.callbacks import ModelCheckpoint, LearningRateScheduler, EarlyStopping, ReduceLROnPlateau, TensorBoard\n",
    "earlyStopping = EarlyStopping(monitor='val_loss',\n",
    "                              min_delta=0,\n",
    "                              patience=3,\n",
    "                              verbose=1)\n",
    "\n",
    "callback_early_stop_reduceLROnPlateau=[earlyStopping]\n",
    "\n",
    "\n",
    "EPOCHS = 10\n",
    "BS = 1\n",
    "progess = network.fit(train_data,train_labels, batch_size=BS,epochs=EPOCHS, callbacks=callback_early_stop_reduceLROnPlateau,validation_split=.05)"
   ]
  },
  {
   "cell_type": "code",
   "execution_count": 20,
   "metadata": {
    "execution": {
     "iopub.execute_input": "2021-01-20T14:45:08.341077Z",
     "iopub.status.busy": "2021-01-20T14:45:08.340405Z",
     "iopub.status.idle": "2021-01-20T14:45:08.529943Z",
     "shell.execute_reply": "2021-01-20T14:45:08.530435Z"
    },
    "papermill": {
     "duration": 0.799328,
     "end_time": "2021-01-20T14:45:08.530583",
     "exception": false,
     "start_time": "2021-01-20T14:45:07.731255",
     "status": "completed"
    },
    "tags": []
   },
   "outputs": [
    {
     "data": {
      "image/png": "[encoded data removed]",
      "text/plain": [
       "<Figure size 432x288 with 1 Axes>"
      ]
     },
     "metadata": {
      "needs_background": "light"
     },
     "output_type": "display_data"
    },
    {
     "data": {
      "text/plain": [
       "<Figure size 432x288 with 0 Axes>"
      ]
     },
     "execution_count": 20,
     "metadata": {},
     "output_type": "execute_result"
    },
    {
     "data": {
      "text/plain": [
       "<Figure size 432x288 with 0 Axes>"
      ]
     },
     "metadata": {},
     "output_type": "display_data"
    }
   ],
   "source": [
    "acc = progess.history['accuracy']\n",
    "val_acc = progess.history['val_accuracy']\n",
    "loss = progess.history['loss']\n",
    "val_loss = progess.history['val_loss']\n",
    " \n",
    "epochs = range(len(acc))\n",
    " \n",
    "plt.plot(epochs, acc, 'b', label='Training acc')\n",
    "plt.plot(epochs, val_acc, 'r', label='Validation acc')\n",
    "plt.title('Training and validation accuracy')\n",
    "plt.legend()\n",
    "\n",
    "plt.plot(epochs, loss, 'b', label='Training loss')\n",
    "plt.plot(epochs, val_loss, 'r', label='Validation loss')\n",
    "plt.title('Training and validation loss')\n",
    "plt.legend()\n",
    " \n",
    "plt.show()\n",
    " \n",
    "plt.figure()"
   ]
  },
  {
   "cell_type": "code",
   "execution_count": 21,
   "metadata": {},
   "outputs": [
    {
     "name": "stdout",
     "output_type": "stream",
     "text": [
      "6/6 [==============================] - 5s 645ms/step\n"
     ]
    },
    {
     "data": {
      "text/plain": [
       "array([[ 6.23415   ],\n",
       "       [ 4.652148  ],\n",
       "       [-2.4823413 ],\n",
       "       [ 2.7408078 ],\n",
       "       [ 0.35168767],\n",
       "       [-1.9056566 ],\n",
       "       [ 1.6363336 ],\n",
       "       [ 2.0846345 ],\n",
       "       [-1.3310854 ],\n",
       "       [-3.983819  ],\n",
       "       [-3.3803496 ],\n",
       "       [ 1.1278561 ],\n",
       "       [-1.3411703 ],\n",
       "       [ 3.973161  ],\n",
       "       [ 3.9954305 ],\n",
       "       [-0.7762189 ],\n",
       "       [ 4.03007   ],\n",
       "       [-0.6960177 ],\n",
       "       [ 2.2857263 ],\n",
       "       [ 2.2981057 ],\n",
       "       [ 3.7213297 ],\n",
       "       [ 1.1292546 ],\n",
       "       [ 0.9167528 ],\n",
       "       [-2.7713401 ],\n",
       "       [ 3.0007634 ],\n",
       "       [-3.9819987 ],\n",
       "       [ 4.245469  ],\n",
       "       [ 3.895941  ],\n",
       "       [ 1.2939072 ],\n",
       "       [-0.6425125 ],\n",
       "       [-1.6965244 ],\n",
       "       [-5.0419793 ],\n",
       "       [ 0.72276   ],\n",
       "       [ 4.3711486 ],\n",
       "       [ 4.0351915 ],\n",
       "       [ 2.6412218 ],\n",
       "       [-1.0525429 ],\n",
       "       [ 4.462638  ],\n",
       "       [-6.4967413 ],\n",
       "       [ 1.0807452 ],\n",
       "       [ 1.495597  ],\n",
       "       [ 2.4981802 ],\n",
       "       [ 0.45266247],\n",
       "       [-3.9467158 ],\n",
       "       [ 0.18835329],\n",
       "       [-4.1182103 ],\n",
       "       [ 3.4281847 ],\n",
       "       [ 1.8000739 ],\n",
       "       [ 2.8919537 ],\n",
       "       [-0.3930424 ],\n",
       "       [ 0.3217939 ],\n",
       "       [-1.5922225 ],\n",
       "       [-0.97067773],\n",
       "       [-1.6180241 ],\n",
       "       [-4.4443893 ],\n",
       "       [ 0.15041475],\n",
       "       [ 2.8326852 ],\n",
       "       [ 3.0269349 ],\n",
       "       [-1.9715744 ],\n",
       "       [-1.6459732 ],\n",
       "       [-2.3976648 ],\n",
       "       [-2.5382836 ],\n",
       "       [ 2.785605  ],\n",
       "       [-1.455709  ],\n",
       "       [-3.2043638 ],\n",
       "       [-0.06799842],\n",
       "       [-1.6251949 ],\n",
       "       [-6.5153112 ],\n",
       "       [ 3.0017993 ],\n",
       "       [ 3.6894174 ],\n",
       "       [ 2.7043128 ],\n",
       "       [-1.6464014 ],\n",
       "       [-0.3168314 ],\n",
       "       [ 2.8131683 ],\n",
       "       [ 1.897477  ],\n",
       "       [ 1.4709405 ],\n",
       "       [ 2.9223168 ],\n",
       "       [ 3.829521  ],\n",
       "       [-2.16551   ],\n",
       "       [-0.13782825],\n",
       "       [ 0.09810124],\n",
       "       [ 5.173975  ],\n",
       "       [ 2.0572753 ],\n",
       "       [ 1.1886305 ],\n",
       "       [-0.73508006],\n",
       "       [ 0.60785013],\n",
       "       [ 0.36308956],\n",
       "       [-3.937414  ],\n",
       "       [ 1.1024971 ],\n",
       "       [ 0.76924044],\n",
       "       [-2.3016922 ],\n",
       "       [ 2.876344  ],\n",
       "       [ 2.4662101 ],\n",
       "       [-2.6167107 ],\n",
       "       [ 0.32139528],\n",
       "       [ 0.33412454],\n",
       "       [-0.7728545 ],\n",
       "       [ 0.7925448 ],\n",
       "       [-1.7871317 ],\n",
       "       [ 2.7966185 ],\n",
       "       [ 1.0528607 ],\n",
       "       [-0.8255466 ],\n",
       "       [ 5.1628323 ],\n",
       "       [-0.18544134],\n",
       "       [ 3.7545416 ],\n",
       "       [-5.300872  ],\n",
       "       [-2.2211263 ],\n",
       "       [-1.1151036 ],\n",
       "       [-0.30868196],\n",
       "       [-2.3492365 ],\n",
       "       [ 3.5644333 ],\n",
       "       [ 4.182939  ],\n",
       "       [-3.1559198 ],\n",
       "       [-2.585011  ],\n",
       "       [-5.878762  ],\n",
       "       [ 1.7722086 ],\n",
       "       [ 2.2749424 ],\n",
       "       [-1.5721006 ],\n",
       "       [-0.05741842],\n",
       "       [ 2.033561  ],\n",
       "       [ 3.7135608 ],\n",
       "       [ 3.924427  ],\n",
       "       [ 0.63489413],\n",
       "       [ 4.8623657 ],\n",
       "       [-0.03359918],\n",
       "       [-1.1790631 ],\n",
       "       [ 1.2700696 ],\n",
       "       [-0.1835999 ],\n",
       "       [ 4.3519177 ],\n",
       "       [-3.223807  ],\n",
       "       [-0.06236823],\n",
       "       [ 1.8659983 ],\n",
       "       [ 5.990384  ],\n",
       "       [ 0.53330517],\n",
       "       [-1.7515521 ],\n",
       "       [ 3.3712237 ],\n",
       "       [ 5.292447  ],\n",
       "       [ 4.002994  ],\n",
       "       [-1.5635355 ],\n",
       "       [ 0.23023193],\n",
       "       [-5.5524516 ],\n",
       "       [ 1.0032309 ],\n",
       "       [-1.8224227 ],\n",
       "       [-0.4613673 ],\n",
       "       [ 3.3263063 ],\n",
       "       [-0.88099873],\n",
       "       [ 2.1478322 ],\n",
       "       [-2.326986  ],\n",
       "       [-2.1873057 ],\n",
       "       [ 0.27543402],\n",
       "       [ 1.2394476 ],\n",
       "       [ 1.8573165 ],\n",
       "       [ 2.1885974 ],\n",
       "       [ 2.6036603 ],\n",
       "       [ 3.1621828 ],\n",
       "       [-2.008193  ],\n",
       "       [ 2.2975779 ],\n",
       "       [ 1.7621486 ],\n",
       "       [-1.7203479 ],\n",
       "       [-2.1287806 ],\n",
       "       [ 0.99335265],\n",
       "       [ 1.7005348 ],\n",
       "       [ 0.19520001],\n",
       "       [ 2.2311504 ],\n",
       "       [ 3.4844527 ],\n",
       "       [-2.2065952 ],\n",
       "       [-3.4651098 ],\n",
       "       [ 1.4489213 ],\n",
       "       [-1.6460679 ],\n",
       "       [ 4.1646433 ],\n",
       "       [ 3.5401292 ],\n",
       "       [ 2.2462175 ],\n",
       "       [-0.13503005],\n",
       "       [ 5.319876  ],\n",
       "       [-3.176151  ],\n",
       "       [ 2.7467215 ],\n",
       "       [ 0.3263746 ],\n",
       "       [ 4.457634  ],\n",
       "       [-3.685002  ],\n",
       "       [-0.50453347]], dtype=float32)"
      ]
     },
     "execution_count": 21,
     "metadata": {},
     "output_type": "execute_result"
    }
   ],
   "source": [
    "pred = network.predict(test_data)\n",
    "pred"
   ]
  },
  {
   "cell_type": "code",
   "execution_count": 22,
   "metadata": {
    "execution": {
     "iopub.execute_input": "2021-01-20T14:45:14.733791Z",
     "iopub.status.busy": "2021-01-20T14:45:14.732920Z",
     "iopub.status.idle": "2021-01-20T14:45:14.737326Z",
     "shell.execute_reply": "2021-01-20T14:45:14.737907Z"
    },
    "papermill": {
     "duration": 0.63089,
     "end_time": "2021-01-20T14:45:14.738059",
     "exception": false,
     "start_time": "2021-01-20T14:45:14.107169",
     "status": "completed"
    },
    "tags": []
   },
   "outputs": [
    {
     "name": "stdout",
     "output_type": "stream",
     "text": [
      "6/6 [==============================] - 5s 645ms/step - loss: 0.7979 - accuracy: 0.6944\n",
      "Test Accuracy: 0.6944444179534912\n"
     ]
    }
   ],
   "source": [
    "test_loss, test_acc = network.evaluate(test_data, test_labels, verbose=1) \n",
    "print(\"Test Accuracy:\", test_acc)"
   ]
  },
  {
   "cell_type": "code",
   "execution_count": 23,
   "metadata": {},
   "outputs": [],
   "source": [
    "network.save(\"ver2_mobilenetv2.h5\")"
   ]
  }
 ],
 "metadata": {
  "kernelspec": {
   "display_name": "Python 3.10.5 64-bit",
   "language": "python",
   "name": "python3"
  },
  "language_info": {
   "codemirror_mode": {
    "name": "ipython",
    "version": 3
   },
   "file_extension": ".py",
   "mimetype": "text/x-python",
   "name": "python",
   "nbconvert_exporter": "python",
   "pygments_lexer": "ipython3",
   "version": "3.10.5"
  },
  "papermill": {
   "duration": 178.97726,
   "end_time": "2021-01-20T14:45:15.468982",
   "environment_variables": {},
   "exception": null,
   "input_path": "__notebook__.ipynb",
   "output_path": "__notebook__.ipynb",
   "parameters": {},
   "start_time": "2021-01-20T14:42:16.491722",
   "version": "2.1.0"
  },
  "vscode": {
   "interpreter": {
    "hash": "ad494814622fc7a7adb6a90fabdf7f021a85d8560d459ea24a8b4c0a76499cdf"
   }
  }
 },
 "nbformat": 4,
 "nbformat_minor": 4
}
