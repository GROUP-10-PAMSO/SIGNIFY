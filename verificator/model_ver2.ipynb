{
 "cells": [
  {
   "cell_type": "code",
   "execution_count": 1,
   "metadata": {
    "_cell_guid": "b1076dfc-b9ad-4769-8c92-a6c4dae69d19",
    "_uuid": "8f2839f25d086af736a60e9eeb907d3b93b6e0e5",
    "execution": {
     "iopub.execute_input": "2021-01-20T14:42:21.666797Z",
     "iopub.status.busy": "2021-01-20T14:42:21.664205Z",
     "iopub.status.idle": "2021-01-20T14:42:21.668662Z",
     "shell.execute_reply": "2021-01-20T14:42:21.669134Z"
    },
    "papermill": {
     "duration": 0.016596,
     "end_time": "2021-01-20T14:42:21.669294",
     "exception": false,
     "start_time": "2021-01-20T14:42:21.652698",
     "status": "completed"
    },
    "tags": []
   },
   "outputs": [],
   "source": [
    "import numpy as np # linear algebra\n",
    "import tensorflow as tf\n",
    "import pandas as pd # data processing, CSV file I/O (e.g. pd.read_csv)\n",
    "import matplotlib.pyplot as plt"
   ]
  },
  {
   "cell_type": "code",
   "execution_count": 4,
   "metadata": {
    "execution": {
     "iopub.execute_input": "2021-01-20T14:42:22.316990Z",
     "iopub.status.busy": "2021-01-20T14:42:22.316325Z",
     "iopub.status.idle": "2021-01-20T14:42:22.420939Z",
     "shell.execute_reply": "2021-01-20T14:42:22.420409Z"
    },
    "papermill": {
     "duration": 0.120874,
     "end_time": "2021-01-20T14:42:22.421073",
     "exception": false,
     "start_time": "2021-01-20T14:42:22.300199",
     "status": "completed"
    },
    "tags": []
   },
   "outputs": [],
   "source": [
    "import glob\n",
    "gen = [glob.glob('sign_data_ver2/Dataset_Signature_Final/Dataset/dataset1/real/*.*'),\n",
    "       glob.glob('sign_data_ver2/Dataset_Signature_Final/Dataset/dataset2/real/*.*'),\n",
    "       glob.glob('sign_data_ver2/Dataset_Signature_Final/Dataset/dataset3/real/*.*'),\n",
    "       glob.glob('sign_data_ver2/Dataset_Signature_Final/Dataset/dataset4/real1/*.*')]\n",
    "                 \n",
    "forg = [glob.glob('sign_data_ver2/Dataset_Signature_Final/Dataset/dataset1/forge/*.*'),\n",
    "        glob.glob('sign_data_ver2/Dataset_Signature_Final/Dataset/dataset2/forge/*.*'),\n",
    "        glob.glob('sign_data_ver2/Dataset_Signature_Final/Dataset/dataset3/forge/*.*'),\n",
    "        glob.glob('sign_data_ver2/Dataset_Signature_Final/Dataset/dataset4/forge/*.*')]"
   ]
  },
  {
   "cell_type": "code",
   "execution_count": 5,
   "metadata": {
    "execution": {
     "iopub.execute_input": "2021-01-20T14:42:22.454529Z",
     "iopub.status.busy": "2021-01-20T14:42:22.453836Z",
     "iopub.status.idle": "2021-01-20T14:42:40.243891Z",
     "shell.execute_reply": "2021-01-20T14:42:40.243292Z"
    },
    "papermill": {
     "duration": 17.812573,
     "end_time": "2021-01-20T14:42:40.244014",
     "exception": false,
     "start_time": "2021-01-20T14:42:22.431441",
     "status": "completed"
    },
    "tags": []
   },
   "outputs": [],
   "source": [
    "import glob\n",
    "import keras\n",
    "import cv2\n",
    "\n",
    "train_data = []\n",
    "train_labels = []\n",
    "\n",
    "test_data = []\n",
    "test_labels = []\n",
    "\n",
    "for data in range(len(gen)):\n",
    "    for i in gen[data]:\n",
    "        if data == 3:\n",
    "            image = cv2.imread(i)\n",
    "            image = cv2.cvtColor(image, cv2.COLOR_BGR2RGB)\n",
    "            image = cv2.resize(image, (224, 224))\n",
    "            test_data.append(image)\n",
    "            test_labels.append(0)\n",
    "        else:\n",
    "            image = cv2.imread(i)\n",
    "            image = cv2.cvtColor(image, cv2.COLOR_BGR2RGB)\n",
    "            image = cv2.resize(image, (224, 224))\n",
    "            train_data.append(image)\n",
    "            train_labels.append(0) #genuine = 0\n",
    "        \n",
    "for data in range(len(forg)):\n",
    "    for j in forg[data]:\n",
    "        if data == 3:\n",
    "            image = cv2.imread(j)\n",
    "            image = cv2.cvtColor(image, cv2.COLOR_BGR2RGB)\n",
    "            image = cv2.resize(image, (224, 224))\n",
    "            test_data.append(image)\n",
    "            test_labels.append(1)\n",
    "        else:\n",
    "            image = cv2.imread(j)\n",
    "            image = cv2.cvtColor(image, cv2.COLOR_BGR2RGB)\n",
    "            image = cv2.resize(image, (224, 224))\n",
    "            train_data.append(image)\n",
    "            train_labels.append(1) #forged = 1\n",
    "\n",
    "train_data = np.array(train_data)/255.0\n",
    "train_labels = np.array(train_labels)\n",
    "\n",
    "test_data = np.array(test_data)/255.0\n",
    "test_labels = np.array(test_labels)"
   ]
  },
  {
   "cell_type": "code",
   "execution_count": 6,
   "metadata": {
    "execution": {
     "iopub.execute_input": "2021-01-20T14:42:40.269811Z",
     "iopub.status.busy": "2021-01-20T14:42:40.269126Z",
     "iopub.status.idle": "2021-01-20T14:42:40.273215Z",
     "shell.execute_reply": "2021-01-20T14:42:40.272664Z"
    },
    "papermill": {
     "duration": 0.019085,
     "end_time": "2021-01-20T14:42:40.273345",
     "exception": false,
     "start_time": "2021-01-20T14:42:40.254260",
     "status": "completed"
    },
    "tags": []
   },
   "outputs": [
    {
     "data": {
      "text/plain": [
       "(540, 224, 224, 3)"
      ]
     },
     "execution_count": 6,
     "metadata": {},
     "output_type": "execute_result"
    }
   ],
   "source": [
    "train_data.shape"
   ]
  },
  {
   "cell_type": "code",
   "execution_count": 7,
   "metadata": {
    "execution": {
     "iopub.execute_input": "2021-01-20T14:42:40.300980Z",
     "iopub.status.busy": "2021-01-20T14:42:40.300309Z",
     "iopub.status.idle": "2021-01-20T14:42:41.452888Z",
     "shell.execute_reply": "2021-01-20T14:42:41.452235Z"
    },
    "papermill": {
     "duration": 1.168968,
     "end_time": "2021-01-20T14:42:41.453021",
     "exception": false,
     "start_time": "2021-01-20T14:42:40.284053",
     "status": "completed"
    },
    "tags": []
   },
   "outputs": [],
   "source": [
    "from sklearn.utils import shuffle\n",
    "train_data,train_labels = shuffle(train_data,train_labels)\n",
    "\n",
    "test_data,test_labels = shuffle(test_data,test_labels)"
   ]
  },
  {
   "cell_type": "code",
   "execution_count": 9,
   "metadata": {},
   "outputs": [],
   "source": [
    "from keras.models import Sequential\n",
    "from keras.layers import Dense, Dropout, Input, Lambda, Flatten, Conv2D, MaxPooling2D, ZeroPadding2D, Conv2D, BatchNormalization\n",
    "# from keras.layers.normalization import Normalization\n",
    "from keras.regularizers import l2\n",
    "from keras_preprocessing.image import ImageDataGenerator\n",
    "from sklearn.metrics import confusion_matrix as CM\n",
    "from keras.optimizers import RMSprop, Adam\n",
    "\n",
    "# Create the base model from the pre-trained model MobileNet V2\n",
    "base_model = tf.keras.applications.MobileNetV2(input_shape=(224, 224, 3),\n",
    "                                               include_top=False,\n",
    "                                               weights='imagenet'\n",
    "                                               )\n",
    "base_model.trainable = False\n",
    "                                               \n",
    "global_average_layer = tf.keras.layers.GlobalAveragePooling2D()\n",
    "prediction_layer = keras.layers.Dense(1)\n",
    "\n",
    "network = tf.keras.Sequential([\n",
    "  base_model,\n",
    "  global_average_layer,\n",
    "  prediction_layer\n",
    "])\n",
    "\n",
    "base_learning_rate = 0.001\n",
    "network.compile(optimizer=tf.keras.optimizers.RMSprop(learning_rate=base_learning_rate),\n",
    "              loss=tf.keras.losses.BinaryCrossentropy(from_logits=True),\n",
    "              metrics=['accuracy'])\n",
    "\n",
    "# network.compile(optimizer=Adam(learning_rate=0.001),loss=\"binary_crossentropy\",metrics=[\"accuracy\"])"
   ]
  },
  {
   "cell_type": "code",
   "execution_count": 10,
   "metadata": {
    "execution": {
     "iopub.execute_input": "2021-01-20T14:42:41.841549Z",
     "iopub.status.busy": "2021-01-20T14:42:41.840796Z",
     "iopub.status.idle": "2021-01-20T14:45:07.130091Z",
     "shell.execute_reply": "2021-01-20T14:45:07.129088Z"
    },
    "papermill": {
     "duration": 145.307584,
     "end_time": "2021-01-20T14:45:07.130272",
     "exception": false,
     "start_time": "2021-01-20T14:42:41.822688",
     "status": "completed"
    },
    "tags": []
   },
   "outputs": [
    {
     "name": "stdout",
     "output_type": "stream",
     "text": [
      "Epoch 1/10\n",
      "513/513 [==============================] - 26s 41ms/step - loss: 0.6553 - accuracy: 0.6277 - val_loss: 0.6781 - val_accuracy: 0.6296\n",
      "Epoch 2/10\n",
      "513/513 [==============================] - 21s 40ms/step - loss: 0.4722 - accuracy: 0.7680 - val_loss: 0.5562 - val_accuracy: 0.7037\n",
      "Epoch 3/10\n",
      "513/513 [==============================] - 20s 38ms/step - loss: 0.3931 - accuracy: 0.8246 - val_loss: 0.5571 - val_accuracy: 0.7407\n",
      "Epoch 4/10\n",
      "513/513 [==============================] - 19s 38ms/step - loss: 0.3337 - accuracy: 0.8752 - val_loss: 0.5824 - val_accuracy: 0.7037\n",
      "Epoch 5/10\n",
      "513/513 [==============================] - 19s 38ms/step - loss: 0.3070 - accuracy: 0.8791 - val_loss: 0.5182 - val_accuracy: 0.7407\n",
      "Epoch 6/10\n",
      "513/513 [==============================] - 19s 38ms/step - loss: 0.2752 - accuracy: 0.8811 - val_loss: 0.4394 - val_accuracy: 0.7407\n",
      "Epoch 7/10\n",
      "513/513 [==============================] - 19s 38ms/step - loss: 0.2411 - accuracy: 0.9025 - val_loss: 0.4179 - val_accuracy: 0.7407\n",
      "Epoch 8/10\n",
      "513/513 [==============================] - 19s 37ms/step - loss: 0.2279 - accuracy: 0.9045 - val_loss: 0.3936 - val_accuracy: 0.7407\n",
      "Epoch 9/10\n",
      "513/513 [==============================] - 19s 37ms/step - loss: 0.2056 - accuracy: 0.9279 - val_loss: 0.3653 - val_accuracy: 0.8889\n",
      "Epoch 10/10\n",
      "513/513 [==============================] - 19s 38ms/step - loss: 0.1863 - accuracy: 0.9376 - val_loss: 0.3357 - val_accuracy: 0.8148\n"
     ]
    }
   ],
   "source": [
    "from keras.callbacks import ModelCheckpoint, LearningRateScheduler, EarlyStopping, ReduceLROnPlateau, TensorBoard\n",
    "earlyStopping = EarlyStopping(monitor='val_loss',\n",
    "                              min_delta=0,\n",
    "                              patience=3,\n",
    "                              verbose=1)\n",
    "\n",
    "callback_early_stop_reduceLROnPlateau=[earlyStopping]\n",
    "\n",
    "\n",
    "EPOCHS = 10\n",
    "BS = 1\n",
    "progess = network.fit(train_data,train_labels, batch_size=BS,epochs=EPOCHS, callbacks=callback_early_stop_reduceLROnPlateau,validation_split=.05)"
   ]
  },
  {
   "cell_type": "code",
   "execution_count": 11,
   "metadata": {
    "execution": {
     "iopub.execute_input": "2021-01-20T14:45:08.341077Z",
     "iopub.status.busy": "2021-01-20T14:45:08.340405Z",
     "iopub.status.idle": "2021-01-20T14:45:08.529943Z",
     "shell.execute_reply": "2021-01-20T14:45:08.530435Z"
    },
    "papermill": {
     "duration": 0.799328,
     "end_time": "2021-01-20T14:45:08.530583",
     "exception": false,
     "start_time": "2021-01-20T14:45:07.731255",
     "status": "completed"
    },
    "tags": []
   },
   "outputs": [
    {
     "data": {
      "image/png": "[encoded data removed]",
      "text/plain": [
       "<Figure size 432x288 with 1 Axes>"
      ]
     },
     "metadata": {
      "needs_background": "light"
     },
     "output_type": "display_data"
    },
    {
     "data": {
      "text/plain": [
       "<Figure size 432x288 with 0 Axes>"
      ]
     },
     "execution_count": 11,
     "metadata": {},
     "output_type": "execute_result"
    },
    {
     "data": {
      "text/plain": [
       "<Figure size 432x288 with 0 Axes>"
      ]
     },
     "metadata": {},
     "output_type": "display_data"
    }
   ],
   "source": [
    "acc = progess.history['accuracy']\n",
    "val_acc = progess.history['val_accuracy']\n",
    "loss = progess.history['loss']\n",
    "val_loss = progess.history['val_loss']\n",
    " \n",
    "epochs = range(len(acc))\n",
    " \n",
    "plt.plot(epochs, acc, 'b', label='Training acc')\n",
    "plt.plot(epochs, val_acc, 'r', label='Validation acc')\n",
    "plt.title('Training and validation accuracy')\n",
    "plt.legend()\n",
    "\n",
    "plt.plot(epochs, loss, 'b', label='Training loss')\n",
    "plt.plot(epochs, val_loss, 'r', label='Validation loss')\n",
    "plt.title('Training and validation loss')\n",
    "plt.legend()\n",
    " \n",
    "plt.show()\n",
    " \n",
    "plt.figure()"
   ]
  },
  {
   "cell_type": "code",
   "execution_count": 17,
   "metadata": {
    "execution": {
     "iopub.execute_input": "2021-01-20T14:45:14.733791Z",
     "iopub.status.busy": "2021-01-20T14:45:14.732920Z",
     "iopub.status.idle": "2021-01-20T14:45:14.737326Z",
     "shell.execute_reply": "2021-01-20T14:45:14.737907Z"
    },
    "papermill": {
     "duration": 0.63089,
     "end_time": "2021-01-20T14:45:14.738059",
     "exception": false,
     "start_time": "2021-01-20T14:45:14.107169",
     "status": "completed"
    },
    "tags": []
   },
   "outputs": [
    {
     "name": "stdout",
     "output_type": "stream",
     "text": [
      "6/6 [==============================] - 4s 654ms/step - loss: 0.7594 - accuracy: 0.7389\n",
      "Test Accuracy: 0.7388888597488403\n"
     ]
    }
   ],
   "source": [
    "test_loss, test_acc = network.evaluate(test_data, test_labels, verbose=1) \n",
    "print(\"Test Accuracy:\", test_acc)"
   ]
  },
  {
   "cell_type": "code",
   "execution_count": 15,
   "metadata": {},
   "outputs": [],
   "source": [
    "# network.save(\"ver2_mobilenetv2.h5\")"
   ]
  }
 ],
 "metadata": {
  "kernelspec": {
   "display_name": "Python 3.10.5 64-bit",
   "language": "python",
   "name": "python3"
  },
  "language_info": {
   "codemirror_mode": {
    "name": "ipython",
    "version": 3
   },
   "file_extension": ".py",
   "mimetype": "text/x-python",
   "name": "python",
   "nbconvert_exporter": "python",
   "pygments_lexer": "ipython3",
   "version": "3.10.5"
  },
  "papermill": {
   "duration": 178.97726,
   "end_time": "2021-01-20T14:45:15.468982",
   "environment_variables": {},
   "exception": null,
   "input_path": "__notebook__.ipynb",
   "output_path": "__notebook__.ipynb",
   "parameters": {},
   "start_time": "2021-01-20T14:42:16.491722",
   "version": "2.1.0"
  },
  "vscode": {
   "interpreter": {
    "hash": "ad494814622fc7a7adb6a90fabdf7f021a85d8560d459ea24a8b4c0a76499cdf"
   }
  }
 },
 "nbformat": 4,
 "nbformat_minor": 4
}
