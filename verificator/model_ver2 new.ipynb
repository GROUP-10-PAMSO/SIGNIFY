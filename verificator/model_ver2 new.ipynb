{
 "cells": [
  {
   "cell_type": "code",
   "execution_count": 63,
   "metadata": {
    "_cell_guid": "b1076dfc-b9ad-4769-8c92-a6c4dae69d19",
    "_uuid": "8f2839f25d086af736a60e9eeb907d3b93b6e0e5",
    "execution": {
     "iopub.execute_input": "2021-01-20T14:42:21.666797Z",
     "iopub.status.busy": "2021-01-20T14:42:21.664205Z",
     "iopub.status.idle": "2021-01-20T14:42:21.668662Z",
     "shell.execute_reply": "2021-01-20T14:42:21.669134Z"
    },
    "papermill": {
     "duration": 0.016596,
     "end_time": "2021-01-20T14:42:21.669294",
     "exception": false,
     "start_time": "2021-01-20T14:42:21.652698",
     "status": "completed"
    },
    "tags": []
   },
   "outputs": [],
   "source": [
    "import numpy as np # linear algebra\n",
    "import tensorflow as tf\n",
    "import pandas as pd # data processing, CSV file I/O (e.g. pd.read_csv)\n",
    "import matplotlib.pyplot as plt"
   ]
  },
  {
   "cell_type": "code",
   "execution_count": 64,
   "metadata": {
    "_cell_guid": "79c7e3d0-c299-4dcb-8224-4455121ee9b0",
    "_uuid": "d629ff2d2480ee46fbb7e2d37f6b5fab8052498a",
    "execution": {
     "iopub.execute_input": "2021-01-20T14:42:21.688510Z",
     "iopub.status.busy": "2021-01-20T14:42:21.687874Z",
     "iopub.status.idle": "2021-01-20T14:42:21.966501Z",
     "shell.execute_reply": "2021-01-20T14:42:21.965810Z"
    },
    "papermill": {
     "duration": 0.289106,
     "end_time": "2021-01-20T14:42:21.966631",
     "exception": false,
     "start_time": "2021-01-20T14:42:21.677525",
     "status": "completed"
    },
    "tags": []
   },
   "outputs": [],
   "source": [
    "# import matplotlib.pyplot as plt\n",
    "# img = plt.imread('../input/handwritten-signatures/sample_Signature/sample_Signature/forged/NFI-00301001.png')\n",
    "# plt.imshow(img)"
   ]
  },
  {
   "cell_type": "code",
   "execution_count": 65,
   "metadata": {
    "execution": {
     "iopub.execute_input": "2021-01-20T14:42:21.989553Z",
     "iopub.status.busy": "2021-01-20T14:42:21.988903Z",
     "iopub.status.idle": "2021-01-20T14:42:22.289484Z",
     "shell.execute_reply": "2021-01-20T14:42:22.288819Z"
    },
    "papermill": {
     "duration": 0.313865,
     "end_time": "2021-01-20T14:42:22.289618",
     "exception": false,
     "start_time": "2021-01-20T14:42:21.975753",
     "status": "completed"
    },
    "tags": []
   },
   "outputs": [],
   "source": [
    "# img1 = plt.imread('../input/handwritten-signatures/sample_Signature/sample_Signature/genuine/NFI-00101001.png')\n",
    "# plt.imshow(img1)"
   ]
  },
  {
   "cell_type": "code",
   "execution_count": 66,
   "metadata": {
    "execution": {
     "iopub.execute_input": "2021-01-20T14:42:22.316990Z",
     "iopub.status.busy": "2021-01-20T14:42:22.316325Z",
     "iopub.status.idle": "2021-01-20T14:42:22.420939Z",
     "shell.execute_reply": "2021-01-20T14:42:22.420409Z"
    },
    "papermill": {
     "duration": 0.120874,
     "end_time": "2021-01-20T14:42:22.421073",
     "exception": false,
     "start_time": "2021-01-20T14:42:22.300199",
     "status": "completed"
    },
    "tags": []
   },
   "outputs": [],
   "source": [
    "import glob\n",
    "gen = [glob.glob('sign_data_ver2/Dataset_Signature_Final/Dataset/dataset1/real/*.*'),\n",
    "       glob.glob('sign_data_ver2/Dataset_Signature_Final/Dataset/dataset2/real/*.*'),\n",
    "       glob.glob('sign_data_ver2/Dataset_Signature_Final/Dataset/dataset3/real/*.*'),\n",
    "       glob.glob('sign_data_ver2/Dataset_Signature_Final/Dataset/dataset4/real1/*.*')]\n",
    "                 \n",
    "forg = [glob.glob('sign_data_ver2/Dataset_Signature_Final/Dataset/dataset1/forge/*.*'),\n",
    "        glob.glob('sign_data_ver2/Dataset_Signature_Final/Dataset/dataset2/forge/*.*'),\n",
    "        glob.glob('sign_data_ver2/Dataset_Signature_Final/Dataset/dataset3/forge/*.*'),\n",
    "        glob.glob('sign_data_ver2/Dataset_Signature_Final/Dataset/dataset4/forge/*.*')]"
   ]
  },
  {
   "cell_type": "code",
   "execution_count": 67,
   "metadata": {
    "execution": {
     "iopub.execute_input": "2021-01-20T14:42:22.454529Z",
     "iopub.status.busy": "2021-01-20T14:42:22.453836Z",
     "iopub.status.idle": "2021-01-20T14:42:40.243891Z",
     "shell.execute_reply": "2021-01-20T14:42:40.243292Z"
    },
    "papermill": {
     "duration": 17.812573,
     "end_time": "2021-01-20T14:42:40.244014",
     "exception": false,
     "start_time": "2021-01-20T14:42:22.431441",
     "status": "completed"
    },
    "tags": []
   },
   "outputs": [],
   "source": [
    "import glob\n",
    "import keras\n",
    "import cv2\n",
    "\n",
    "# gen = glob.glob(\"../input/handwritten-signatures/sample_Signature/sample_Signature/genuine/*.*\")\n",
    "# forg = glob.glob(\"../input/handwritten-signatures/sample_Signature/sample_Signature/forged/*.*\")\n",
    "# ../input/handwritten-signatures/sample_Signature/sample_Signature/forged/NFI-00101014.png\n",
    "\n",
    "train_data = []\n",
    "train_labels = []\n",
    "\n",
    "test_data = []\n",
    "test_labels = []\n",
    "\n",
    "for data in range(len(gen)):\n",
    "    for i in gen[data]:\n",
    "        if data == 3:\n",
    "            image = cv2.imread(i)\n",
    "            image = cv2.cvtColor(image, cv2.COLOR_BGR2RGB)\n",
    "            image = cv2.resize(image, (224, 224))\n",
    "            test_data.append(image)\n",
    "            test_labels.append(0)\n",
    "        else:\n",
    "            image = cv2.imread(i)\n",
    "            image = cv2.cvtColor(image, cv2.COLOR_BGR2RGB)\n",
    "            image = cv2.resize(image, (224, 224))\n",
    "            train_data.append(image)\n",
    "            train_labels.append(0) #genuine = 0\n",
    "        \n",
    "for data in range(len(forg)):\n",
    "    for j in forg[data]:\n",
    "        if data == 3:\n",
    "            image = cv2.imread(j)\n",
    "            image = cv2.cvtColor(image, cv2.COLOR_BGR2RGB)\n",
    "            image = cv2.resize(image, (224, 224))\n",
    "            test_data.append(image)\n",
    "            test_labels.append(1)\n",
    "        else:\n",
    "            image = cv2.imread(j)\n",
    "            image = cv2.cvtColor(image, cv2.COLOR_BGR2RGB)\n",
    "            image = cv2.resize(image, (224, 224))\n",
    "            train_data.append(image)\n",
    "            train_labels.append(1) #forged = 1\n",
    "\n",
    "train_data = np.array(train_data)/255.0\n",
    "train_labels = np.array(train_labels)\n",
    "\n",
    "test_data = np.array(test_data)/255.0\n",
    "test_labels = np.array(test_labels)"
   ]
  },
  {
   "cell_type": "code",
   "execution_count": 68,
   "metadata": {
    "execution": {
     "iopub.execute_input": "2021-01-20T14:42:40.269811Z",
     "iopub.status.busy": "2021-01-20T14:42:40.269126Z",
     "iopub.status.idle": "2021-01-20T14:42:40.273215Z",
     "shell.execute_reply": "2021-01-20T14:42:40.272664Z"
    },
    "papermill": {
     "duration": 0.019085,
     "end_time": "2021-01-20T14:42:40.273345",
     "exception": false,
     "start_time": "2021-01-20T14:42:40.254260",
     "status": "completed"
    },
    "tags": []
   },
   "outputs": [
    {
     "data": {
      "text/plain": [
       "(540, 224, 224, 3)"
      ]
     },
     "execution_count": 68,
     "metadata": {},
     "output_type": "execute_result"
    }
   ],
   "source": [
    "train_data.shape"
   ]
  },
  {
   "cell_type": "code",
   "execution_count": 69,
   "metadata": {
    "execution": {
     "iopub.execute_input": "2021-01-20T14:42:40.300980Z",
     "iopub.status.busy": "2021-01-20T14:42:40.300309Z",
     "iopub.status.idle": "2021-01-20T14:42:41.452888Z",
     "shell.execute_reply": "2021-01-20T14:42:41.452235Z"
    },
    "papermill": {
     "duration": 1.168968,
     "end_time": "2021-01-20T14:42:41.453021",
     "exception": false,
     "start_time": "2021-01-20T14:42:40.284053",
     "status": "completed"
    },
    "tags": []
   },
   "outputs": [],
   "source": [
    "from sklearn.utils import shuffle\n",
    "train_data,train_labels = shuffle(train_data,train_labels)\n",
    "\n",
    "test_data,test_labels = shuffle(test_data,test_labels)"
   ]
  },
  {
   "cell_type": "code",
   "execution_count": 70,
   "metadata": {
    "execution": {
     "iopub.execute_input": "2021-01-20T14:42:41.486908Z",
     "iopub.status.busy": "2021-01-20T14:42:41.486168Z",
     "iopub.status.idle": "2021-01-20T14:42:41.809865Z",
     "shell.execute_reply": "2021-01-20T14:42:41.810764Z"
    },
    "papermill": {
     "duration": 0.347014,
     "end_time": "2021-01-20T14:42:41.810958",
     "exception": false,
     "start_time": "2021-01-20T14:42:41.463944",
     "status": "completed"
    },
    "tags": []
   },
   "outputs": [],
   "source": [
    "# from keras.models import Sequential\n",
    "# from keras.layers import Conv2D,MaxPooling2D,Flatten,Dense,Dropout\n",
    "# from keras_preprocessing.image import ImageDataGenerator\n",
    "# from sklearn.metrics import confusion_matrix as CM\n",
    "# from keras.optimizers import Adam\n",
    "\n",
    "# network = Sequential()\n",
    "\n",
    "# network.add(Conv2D(64,(3,3),input_shape=(224,224,3),activation='relu'))\n",
    "# network.add(MaxPooling2D(3,3))\n",
    "# network.add(Conv2D(32,(3,3),activation='relu'))\n",
    "# network.add(MaxPooling2D(2,2))\n",
    "# network.add(Flatten())\n",
    "# network.add(Dense(128,activation = 'relu'))\n",
    "# network.add(Dropout(rate=0.3))\n",
    "# network.add(Dense(2,activation = 'softmax'))\n",
    "\n",
    "# network.compile(optimizer=Adam(lr=0.001),loss=\"binary_crossentropy\",metrics=[\"accuracy\"])\n",
    "# network.summary()"
   ]
  },
  {
   "cell_type": "code",
   "execution_count": 110,
   "metadata": {},
   "outputs": [],
   "source": [
    "from keras.models import Sequential\n",
    "from keras.layers import Dense, Dropout, Input, Lambda, Flatten, Conv2D, MaxPooling2D, ZeroPadding2D, Conv2D, BatchNormalization\n",
    "# from keras.layers.normalization import Normalization\n",
    "from keras.regularizers import l2\n",
    "from keras_preprocessing.image import ImageDataGenerator\n",
    "from sklearn.metrics import confusion_matrix as CM\n",
    "from keras.optimizers import RMSprop, Adam\n",
    "\n",
    "# Create the base model from the pre-trained model MobileNet V2\n",
    "base_model = tf.keras.applications.MobileNetV3Large(input_shape=(224, 224, 3),\n",
    "                                               include_top=False,\n",
    "                                               weights='imagenet'\n",
    "                                               )\n",
    "base_model.trainable = False\n",
    "                                               \n",
    "global_average_layer = tf.keras.layers.GlobalAveragePooling2D()\n",
    "prediction_layer = keras.layers.Dense(1)\n",
    "\n",
    "network = tf.keras.Sequential([\n",
    "  base_model,\n",
    "  global_average_layer,\n",
    "  prediction_layer\n",
    "])\n",
    "\n",
    "base_learning_rate = 0.001\n",
    "network.compile(optimizer=tf.keras.optimizers.RMSprop(learning_rate=base_learning_rate),\n",
    "              loss=tf.keras.losses.BinaryCrossentropy(from_logits=True),\n",
    "              metrics=['accuracy'])\n",
    "\n",
    "# network.compile(optimizer=Adam(learning_rate=0.001),loss=\"binary_crossentropy\",metrics=[\"accuracy\"])"
   ]
  },
  {
   "cell_type": "code",
   "execution_count": 111,
   "metadata": {
    "execution": {
     "iopub.execute_input": "2021-01-20T14:42:41.841549Z",
     "iopub.status.busy": "2021-01-20T14:42:41.840796Z",
     "iopub.status.idle": "2021-01-20T14:45:07.130091Z",
     "shell.execute_reply": "2021-01-20T14:45:07.129088Z"
    },
    "papermill": {
     "duration": 145.307584,
     "end_time": "2021-01-20T14:45:07.130272",
     "exception": false,
     "start_time": "2021-01-20T14:42:41.822688",
     "status": "completed"
    },
    "tags": []
   },
   "outputs": [
    {
     "name": "stdout",
     "output_type": "stream",
     "text": [
      "Epoch 1/10\n",
      "513/513 [==============================] - 26s 41ms/step - loss: 0.7088 - accuracy: 0.4912 - val_loss: 0.7007 - val_accuracy: 0.4815\n",
      "Epoch 2/10\n",
      "513/513 [==============================] - 19s 37ms/step - loss: 0.7030 - accuracy: 0.5146 - val_loss: 0.6959 - val_accuracy: 0.4444\n",
      "Epoch 3/10\n",
      "513/513 [==============================] - 19s 37ms/step - loss: 0.6986 - accuracy: 0.5127 - val_loss: 0.7070 - val_accuracy: 0.4444\n",
      "Epoch 4/10\n",
      "513/513 [==============================] - 19s 37ms/step - loss: 0.6920 - accuracy: 0.5244 - val_loss: 0.6807 - val_accuracy: 0.4815\n",
      "Epoch 5/10\n",
      "513/513 [==============================] - 19s 36ms/step - loss: 0.6903 - accuracy: 0.5166 - val_loss: 0.6839 - val_accuracy: 0.5185\n",
      "Epoch 6/10\n",
      "513/513 [==============================] - 19s 36ms/step - loss: 0.6895 - accuracy: 0.5302 - val_loss: 0.6794 - val_accuracy: 0.5185\n",
      "Epoch 7/10\n",
      "513/513 [==============================] - 19s 36ms/step - loss: 0.6796 - accuracy: 0.5263 - val_loss: 0.6759 - val_accuracy: 0.5185\n",
      "Epoch 8/10\n",
      "513/513 [==============================] - 19s 36ms/step - loss: 0.6823 - accuracy: 0.5185 - val_loss: 0.6833 - val_accuracy: 0.5185\n",
      "Epoch 9/10\n",
      "513/513 [==============================] - 19s 36ms/step - loss: 0.6770 - accuracy: 0.5400 - val_loss: 0.6953 - val_accuracy: 0.4815\n",
      "Epoch 10/10\n",
      "513/513 [==============================] - 19s 37ms/step - loss: 0.6747 - accuracy: 0.5380 - val_loss: 0.6685 - val_accuracy: 0.5185\n"
     ]
    }
   ],
   "source": [
    "from keras.callbacks import ModelCheckpoint, LearningRateScheduler, EarlyStopping, ReduceLROnPlateau, TensorBoard\n",
    "earlyStopping = EarlyStopping(monitor='val_loss',\n",
    "                              min_delta=0,\n",
    "                              patience=3,\n",
    "                              verbose=1)\n",
    "\n",
    "callback_early_stop_reduceLROnPlateau=[earlyStopping]\n",
    "\n",
    "\n",
    "EPOCHS = 10\n",
    "BS = 1\n",
    "progess = network.fit(train_data,train_labels, batch_size=BS,epochs=EPOCHS, callbacks=callback_early_stop_reduceLROnPlateau,validation_split=.05)"
   ]
  },
  {
   "cell_type": "code",
   "execution_count": 112,
   "metadata": {
    "execution": {
     "iopub.execute_input": "2021-01-20T14:45:08.341077Z",
     "iopub.status.busy": "2021-01-20T14:45:08.340405Z",
     "iopub.status.idle": "2021-01-20T14:45:08.529943Z",
     "shell.execute_reply": "2021-01-20T14:45:08.530435Z"
    },
    "papermill": {
     "duration": 0.799328,
     "end_time": "2021-01-20T14:45:08.530583",
     "exception": false,
     "start_time": "2021-01-20T14:45:07.731255",
     "status": "completed"
    },
    "tags": []
   },
   "outputs": [
    {
     "data": {
      "image/png": "[encoded data removed]",
      "text/plain": [
       "<Figure size 432x288 with 1 Axes>"
      ]
     },
     "metadata": {
      "needs_background": "light"
     },
     "output_type": "display_data"
    },
    {
     "data": {
      "text/plain": [
       "<Figure size 432x288 with 0 Axes>"
      ]
     },
     "execution_count": 112,
     "metadata": {},
     "output_type": "execute_result"
    },
    {
     "data": {
      "text/plain": [
       "<Figure size 432x288 with 0 Axes>"
      ]
     },
     "metadata": {},
     "output_type": "display_data"
    }
   ],
   "source": [
    "acc = progess.history['accuracy']\n",
    "val_acc = progess.history['val_accuracy']\n",
    "loss = progess.history['loss']\n",
    "val_loss = progess.history['val_loss']\n",
    " \n",
    "epochs = range(len(acc))\n",
    " \n",
    "plt.plot(epochs, acc, 'b', label='Training acc')\n",
    "plt.plot(epochs, val_acc, 'r', label='Validation acc')\n",
    "plt.title('Training and validation accuracy')\n",
    "plt.legend()\n",
    "\n",
    "plt.plot(epochs, loss, 'b', label='Training loss')\n",
    "plt.plot(epochs, val_loss, 'r', label='Validation loss')\n",
    "plt.title('Training and validation loss')\n",
    "plt.legend()\n",
    " \n",
    "plt.show()\n",
    " \n",
    "plt.figure()"
   ]
  },
  {
   "cell_type": "code",
   "execution_count": 113,
   "metadata": {
    "execution": {
     "iopub.execute_input": "2021-01-20T14:45:09.780130Z",
     "iopub.status.busy": "2021-01-20T14:45:09.778643Z",
     "iopub.status.idle": "2021-01-20T14:45:12.175284Z",
     "shell.execute_reply": "2021-01-20T14:45:12.174671Z"
    },
    "papermill": {
     "duration": 3.019165,
     "end_time": "2021-01-20T14:45:12.175476",
     "exception": false,
     "start_time": "2021-01-20T14:45:09.156311",
     "status": "completed"
    },
    "tags": []
   },
   "outputs": [
    {
     "name": "stdout",
     "output_type": "stream",
     "text": [
      "6/6 [==============================] - 5s 628ms/step\n"
     ]
    }
   ],
   "source": [
    "pred = network.predict(test_data)"
   ]
  },
  {
   "cell_type": "code",
   "execution_count": 114,
   "metadata": {
    "execution": {
     "iopub.execute_input": "2021-01-20T14:45:13.482596Z",
     "iopub.status.busy": "2021-01-20T14:45:13.481927Z",
     "iopub.status.idle": "2021-01-20T14:45:13.485617Z",
     "shell.execute_reply": "2021-01-20T14:45:13.486129Z"
    },
    "papermill": {
     "duration": 0.692548,
     "end_time": "2021-01-20T14:45:13.486276",
     "exception": false,
     "start_time": "2021-01-20T14:45:12.793728",
     "status": "completed"
    },
    "tags": []
   },
   "outputs": [
    {
     "data": {
      "text/plain": [
       "array([[ 0.19592063],\n",
       "       [ 1.1973462 ],\n",
       "       [ 0.82441574],\n",
       "       [-0.20945498],\n",
       "       [ 0.5351126 ],\n",
       "       [ 0.08830432],\n",
       "       [ 0.848257  ],\n",
       "       [ 0.88035345],\n",
       "       [ 0.18268053],\n",
       "       [ 0.9464711 ],\n",
       "       [ 0.16930468],\n",
       "       [ 0.7385676 ],\n",
       "       [ 0.17001323],\n",
       "       [-0.05199563],\n",
       "       [ 0.06516763],\n",
       "       [-0.23012094],\n",
       "       [ 0.69418716],\n",
       "       [ 0.19095503],\n",
       "       [ 0.8503687 ],\n",
       "       [ 0.29589096],\n",
       "       [-0.40513065],\n",
       "       [-0.56262237],\n",
       "       [ 1.3762779 ],\n",
       "       [ 0.00251205],\n",
       "       [-0.00673627],\n",
       "       [ 1.4305849 ],\n",
       "       [-0.4716469 ],\n",
       "       [ 0.66610944],\n",
       "       [ 0.8823452 ],\n",
       "       [ 0.97207403],\n",
       "       [-0.2309872 ],\n",
       "       [ 0.13394836],\n",
       "       [ 0.4668216 ],\n",
       "       [-0.45013583],\n",
       "       [ 0.14711408],\n",
       "       [ 0.41323057],\n",
       "       [ 1.27983   ],\n",
       "       [ 0.31057096],\n",
       "       [-0.47211003],\n",
       "       [ 0.13378163],\n",
       "       [ 1.5881444 ],\n",
       "       [-0.8428122 ],\n",
       "       [-0.2915334 ],\n",
       "       [ 0.6842942 ],\n",
       "       [ 0.82089794],\n",
       "       [ 0.66769516],\n",
       "       [-0.01946697],\n",
       "       [ 0.601853  ],\n",
       "       [ 1.8290567 ],\n",
       "       [-0.44892713],\n",
       "       [-0.31132254],\n",
       "       [ 0.19017531],\n",
       "       [ 0.8384545 ],\n",
       "       [ 0.4306944 ],\n",
       "       [ 0.15739281],\n",
       "       [ 0.71423477],\n",
       "       [ 0.66945773],\n",
       "       [ 2.075826  ],\n",
       "       [ 1.1395819 ],\n",
       "       [ 0.5801785 ],\n",
       "       [ 0.8331232 ],\n",
       "       [ 0.5718807 ],\n",
       "       [ 0.36651212],\n",
       "       [ 0.42860925],\n",
       "       [ 0.3462087 ],\n",
       "       [-0.4258785 ],\n",
       "       [ 0.09662666],\n",
       "       [-0.01529764],\n",
       "       [-0.19422607],\n",
       "       [-0.37563226],\n",
       "       [-0.32813972],\n",
       "       [ 0.77695036],\n",
       "       [-0.8656031 ],\n",
       "       [ 0.1983097 ],\n",
       "       [-0.3444614 ],\n",
       "       [ 0.3433558 ],\n",
       "       [ 1.4272891 ],\n",
       "       [-0.01980383],\n",
       "       [-0.14570807],\n",
       "       [ 0.09676015],\n",
       "       [ 0.6781018 ],\n",
       "       [ 1.2969704 ],\n",
       "       [ 0.6810576 ],\n",
       "       [ 0.8653525 ],\n",
       "       [-0.72604257],\n",
       "       [ 0.50544834],\n",
       "       [-0.13155626],\n",
       "       [ 0.79194635],\n",
       "       [ 0.50304294],\n",
       "       [ 0.74428624],\n",
       "       [ 0.49887908],\n",
       "       [-0.05719184],\n",
       "       [ 1.676074  ],\n",
       "       [ 0.84874374],\n",
       "       [-0.0613661 ],\n",
       "       [ 0.32962903],\n",
       "       [ 0.44705868],\n",
       "       [-0.01603568],\n",
       "       [ 0.85040534],\n",
       "       [-0.37932032],\n",
       "       [ 0.06073954],\n",
       "       [-0.1349266 ],\n",
       "       [ 1.0153058 ],\n",
       "       [ 0.9326411 ],\n",
       "       [ 0.23629577],\n",
       "       [ 1.5987943 ],\n",
       "       [ 1.3578559 ],\n",
       "       [-0.47717497],\n",
       "       [ 0.11216112],\n",
       "       [ 1.246829  ],\n",
       "       [ 0.6789046 ],\n",
       "       [-0.005104  ],\n",
       "       [-0.5294291 ],\n",
       "       [-0.02515218],\n",
       "       [ 0.7466154 ],\n",
       "       [ 1.1437556 ],\n",
       "       [ 0.6869292 ],\n",
       "       [ 0.7267969 ],\n",
       "       [-0.3624266 ],\n",
       "       [ 0.1371323 ],\n",
       "       [ 0.58765966],\n",
       "       [-0.25567764],\n",
       "       [ 0.62148213],\n",
       "       [ 0.59351194],\n",
       "       [-0.22018264],\n",
       "       [ 0.16755845],\n",
       "       [-1.4466783 ],\n",
       "       [ 0.29138952],\n",
       "       [ 0.24378641],\n",
       "       [ 0.5181626 ],\n",
       "       [ 0.13194741],\n",
       "       [ 0.26728073],\n",
       "       [ 0.15877046],\n",
       "       [-0.23886122],\n",
       "       [ 0.8358929 ],\n",
       "       [ 0.64675295],\n",
       "       [ 0.45355976],\n",
       "       [ 1.0781682 ],\n",
       "       [-0.5194209 ],\n",
       "       [-0.01242544],\n",
       "       [ 0.25084987],\n",
       "       [-0.07790487],\n",
       "       [-0.7379016 ],\n",
       "       [ 0.7043272 ],\n",
       "       [-0.44367623],\n",
       "       [ 0.48430562],\n",
       "       [ 0.6811166 ],\n",
       "       [ 1.6599045 ],\n",
       "       [ 0.00629265],\n",
       "       [ 0.20399015],\n",
       "       [ 0.67360044],\n",
       "       [ 0.7299956 ],\n",
       "       [-0.10760408],\n",
       "       [ 0.6829478 ],\n",
       "       [ 0.29029658],\n",
       "       [ 0.17691727],\n",
       "       [-0.8209711 ],\n",
       "       [ 0.32140166],\n",
       "       [ 1.2179112 ],\n",
       "       [ 0.08722312],\n",
       "       [-0.42872673],\n",
       "       [-0.60097027],\n",
       "       [ 0.46769154],\n",
       "       [ 1.3605719 ],\n",
       "       [-0.5607339 ],\n",
       "       [ 1.4716947 ],\n",
       "       [-0.36517453],\n",
       "       [ 0.47754204],\n",
       "       [ 0.2891606 ],\n",
       "       [ 0.5983269 ],\n",
       "       [ 0.14959079],\n",
       "       [ 1.3051612 ],\n",
       "       [ 1.0356784 ],\n",
       "       [ 1.1936021 ],\n",
       "       [ 0.23648392],\n",
       "       [ 0.6968306 ],\n",
       "       [ 0.08854551],\n",
       "       [ 0.93018913],\n",
       "       [ 0.58491117],\n",
       "       [ 0.3195995 ]], dtype=float32)"
      ]
     },
     "execution_count": 114,
     "metadata": {},
     "output_type": "execute_result"
    }
   ],
   "source": [
    "pred  #prob of genuine, prob of forged"
   ]
  },
  {
   "cell_type": "code",
   "execution_count": 117,
   "metadata": {
    "execution": {
     "iopub.execute_input": "2021-01-20T14:45:14.733791Z",
     "iopub.status.busy": "2021-01-20T14:45:14.732920Z",
     "iopub.status.idle": "2021-01-20T14:45:14.737326Z",
     "shell.execute_reply": "2021-01-20T14:45:14.737907Z"
    },
    "papermill": {
     "duration": 0.63089,
     "end_time": "2021-01-20T14:45:14.738059",
     "exception": false,
     "start_time": "2021-01-20T14:45:14.107169",
     "status": "completed"
    },
    "tags": []
   },
   "outputs": [
    {
     "name": "stdout",
     "output_type": "stream",
     "text": [
      "6/6 [==============================] - 4s 638ms/step - loss: 0.6185 - accuracy: 0.7056\n",
      "Test Accuracy: 0.7055555582046509\n"
     ]
    }
   ],
   "source": [
    "test_loss, test_acc = network.evaluate(test_data, test_labels, verbose=1) \n",
    "print(\"Test Accuracy:\", test_acc)"
   ]
  },
  {
   "cell_type": "code",
   "execution_count": 116,
   "metadata": {},
   "outputs": [],
   "source": [
    "# network.save(\"ver2_mobilenetv2.h5\")"
   ]
  }
 ],
 "metadata": {
  "kernelspec": {
   "display_name": "Python 3.10.5 64-bit",
   "language": "python",
   "name": "python3"
  },
  "language_info": {
   "codemirror_mode": {
    "name": "ipython",
    "version": 3
   },
   "file_extension": ".py",
   "mimetype": "text/x-python",
   "name": "python",
   "nbconvert_exporter": "python",
   "pygments_lexer": "ipython3",
   "version": "3.10.5"
  },
  "papermill": {
   "duration": 178.97726,
   "end_time": "2021-01-20T14:45:15.468982",
   "environment_variables": {},
   "exception": null,
   "input_path": "__notebook__.ipynb",
   "output_path": "__notebook__.ipynb",
   "parameters": {},
   "start_time": "2021-01-20T14:42:16.491722",
   "version": "2.1.0"
  },
  "vscode": {
   "interpreter": {
    "hash": "ad494814622fc7a7adb6a90fabdf7f021a85d8560d459ea24a8b4c0a76499cdf"
   }
  }
 },
 "nbformat": 4,
 "nbformat_minor": 4
}
