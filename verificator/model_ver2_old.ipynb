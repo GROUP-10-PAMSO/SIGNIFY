{
 "cells": [
  {
   "cell_type": "code",
   "execution_count": 1,
   "metadata": {},
   "outputs": [],
   "source": [
    "import numpy as np # linear algebra\n",
    "import tensorflow as tf\n",
    "import pandas as pd # data processing, CSV file I/O (e.g. pd.read_csv)\n",
    "import matplotlib.pyplot as plt"
   ]
  },
  {
   "cell_type": "code",
   "execution_count": 2,
   "metadata": {},
   "outputs": [],
   "source": [
    "import glob\n",
    "gen = [glob.glob('sign_data_ver2/Dataset_Signature_Final/Dataset/dataset1/real/*.*'),\n",
    "       glob.glob('sign_data_ver2/Dataset_Signature_Final/Dataset/dataset2/real/*.*'),\n",
    "       glob.glob('sign_data_ver2/Dataset_Signature_Final/Dataset/dataset3/real/*.*'),\n",
    "       glob.glob('sign_data_ver2/Dataset_Signature_Final/Dataset/dataset4/real1/*.*')]\n",
    "                 \n",
    "forg = [glob.glob('sign_data_ver2/Dataset_Signature_Final/Dataset/dataset1/forge/*.*'),\n",
    "        glob.glob('sign_data_ver2/Dataset_Signature_Final/Dataset/dataset2/forge/*.*'),\n",
    "        glob.glob('sign_data_ver2/Dataset_Signature_Final/Dataset/dataset3/forge/*.*'),\n",
    "        glob.glob('sign_data_ver2/Dataset_Signature_Final/Dataset/dataset4/forge/*.*')]"
   ]
  },
  {
   "cell_type": "code",
   "execution_count": 3,
   "metadata": {},
   "outputs": [],
   "source": [
    "import glob\n",
    "import keras\n",
    "import cv2\n",
    "\n",
    "# gen = glob.glob(\"../input/handwritten-signatures/sample_Signature/sample_Signature/genuine/*.*\")\n",
    "# forg = glob.glob(\"../input/handwritten-signatures/sample_Signature/sample_Signature/forged/*.*\")\n",
    "# ../input/handwritten-signatures/sample_Signature/sample_Signature/forged/NFI-00101014.png\n",
    "\n",
    "train_data = []\n",
    "train_labels = []\n",
    "\n",
    "test_data = []\n",
    "test_labels = []\n",
    "\n",
    "for data in range(len(gen)):\n",
    "    for i in gen[data]:\n",
    "        if data == 3:\n",
    "            image = cv2.imread(i)\n",
    "            image = cv2.cvtColor(image, cv2.COLOR_BGR2RGB)\n",
    "            image = cv2.resize(image, (224, 224))\n",
    "            test_data.append(image)\n",
    "            test_labels.append(0)\n",
    "        else:\n",
    "            image = cv2.imread(i)\n",
    "            image = cv2.cvtColor(image, cv2.COLOR_BGR2RGB)\n",
    "            image = cv2.resize(image, (224, 224))\n",
    "            train_data.append(image)\n",
    "            train_labels.append(0) #genuine = 0\n",
    "        \n",
    "for data in range(len(forg)):\n",
    "    for j in forg[data]:\n",
    "        if data == 3:\n",
    "            image = cv2.imread(j)\n",
    "            image = cv2.cvtColor(image, cv2.COLOR_BGR2RGB)\n",
    "            image = cv2.resize(image, (224, 224))\n",
    "            test_data.append(image)\n",
    "            test_labels.append(1)\n",
    "        else:\n",
    "            image = cv2.imread(j)\n",
    "            image = cv2.cvtColor(image, cv2.COLOR_BGR2RGB)\n",
    "            image = cv2.resize(image, (224, 224))\n",
    "            train_data.append(image)\n",
    "            train_labels.append(1) #forged = 1\n",
    "\n",
    "train_data = np.array(train_data)/255.0\n",
    "train_labels = np.array(train_labels)\n",
    "\n",
    "test_data = np.array(test_data)/255.0\n",
    "test_labels = np.array(test_labels)"
   ]
  },
  {
   "cell_type": "code",
   "execution_count": 4,
   "metadata": {},
   "outputs": [
    {
     "data": {
      "text/plain": [
       "(540, 224, 224, 3)"
      ]
     },
     "execution_count": 4,
     "metadata": {},
     "output_type": "execute_result"
    }
   ],
   "source": [
    "train_data.shape"
   ]
  },
  {
   "cell_type": "code",
   "execution_count": 5,
   "metadata": {},
   "outputs": [],
   "source": [
    "from sklearn.utils import shuffle\n",
    "train_data,train_labels = shuffle(train_data,train_labels)\n",
    "\n",
    "test_data,test_labels = shuffle(test_data,test_labels)"
   ]
  },
  {
   "cell_type": "code",
   "execution_count": 6,
   "metadata": {},
   "outputs": [],
   "source": [
    "from keras.models import Sequential\n",
    "from keras.layers import Dense, Dropout, Input, Lambda, Flatten, Conv2D, MaxPooling2D, ZeroPadding2D, Conv2D, BatchNormalization\n",
    "# from keras.layers.normalization import Normalization\n",
    "from keras.regularizers import l2\n",
    "from keras_preprocessing.image import ImageDataGenerator\n",
    "from sklearn.metrics import confusion_matrix as CM\n",
    "from keras.optimizers import RMSprop, Adam\n",
    "\n",
    "# network = Sequential()\n",
    "\n",
    "# network.add(Conv2D(64,(3,3),input_shape=(224,224,3),activation='relu'))\n",
    "# network.add(MaxPooling2D(3,3))\n",
    "# network.add(Conv2D(32,(3,3),activation='relu'))\n",
    "# network.add(MaxPooling2D(2,2))\n",
    "# network.add(Flatten())\n",
    "# network.add(Dense(128,activation = 'relu'))\n",
    "# network.add(Dropout(rate=0.3))\n",
    "# network.add(Dense(1, activation = 'softmax'))\n",
    "\n",
    "# network = Sequential()\n",
    "# network.add(Conv2D(16, (3,3), activation='relu', input_shape=(224,224,3)))\n",
    "# network.add(Conv2D(32, (3,3), activation='relu'))\n",
    "# network.add(Conv2D(16, (3,3), activation='relu'))\n",
    "\n",
    "# network.add(Flatten())\n",
    "\n",
    "# network.add(Dense(128, activation='relu'))\n",
    "# network.add(Dense(1, activation='sigmoid'))"
   ]
  },
  {
   "cell_type": "code",
   "execution_count": 7,
   "metadata": {},
   "outputs": [],
   "source": [
    "# network = Sequential()\n",
    "# # network.add(Convolution2D(96, 11, 11, activation='relu', name='conv1_1', subsample=(3, 3), input_shape= (224, 224, 3), \n",
    "# #                     init='glorot_uniform', dim_ordering='tf'))\n",
    "\n",
    "# network.add(Conv2D(96, (11,11), (3,3), input_shape = (224, 244, 3), activation=\"relu\", kernel_initializer=\"glorot_uniform\"), )\n",
    "# network.add(BatchNormalization(epsilon=1e-06, momentum=0.9))\n",
    "# network.add(MaxPooling2D((3,3), strides=(2, 2)))    \n",
    "# network.add(ZeroPadding2D((2, 2)))\n",
    "\n",
    "# # network.add(Convolution2D(256, 5, 5, activation='relu', name='conv2_1', subsample=(1, 1), init='glorot_uniform',  dim_ordering='tf'))\n",
    "# network.add(Conv2D(256, (5,5), (1,1), activation=\"relu\", kernel_initializer=\"glorot_uniform\"), )\n",
    "# network.add(BatchNormalization(epsilon=1e-06, momentum=0.9))\n",
    "# network.add(MaxPooling2D((3,3), strides=(2, 2)))\n",
    "# network.add(Dropout(0.3))# added extra\n",
    "# network.add(ZeroPadding2D((1, 1)))\n",
    "\n",
    "# # network.add(Convolution2D(384, 3, 3, activation='relu', name='conv3_1', subsample=(1, 1), init='glorot_uniform',  dim_ordering='tf'))\n",
    "# network.add(Conv2D(384, (3,3), (1,1), activation=\"relu\", kernel_initializer=\"glorot_uniform\"))\n",
    "# network.add(ZeroPadding2D((1, 1)))\n",
    "\n",
    "# # network.add(Convolution2D(256, 3, 3, activation='relu', name='conv3_2', subsample=(1, 1), init='glorot_uniform', dim_ordering='tf'))    \n",
    "# network.add(Conv2D(256, (3,3), (1,1), activation=\"relu\", kernel_initializer=\"glorot_uniform\"))\n",
    "# network.add(MaxPooling2D((3,3), strides=(2, 2)))\n",
    "# network.add(Dropout(0.3))# added extra\n",
    "# #    model.add(SpatialPyramidPooling([1, 2, 4]))\n",
    "# network.add(Flatten(name='flatten'))\n",
    "# network.add(Dense(1024, activation='relu', bias_regularizer=l2(0.005), kernel_initializer='glorot_uniform'))\n",
    "# network.add(Dropout(0.5))\n",
    "\n",
    "# network.add(Dense(128, activation='relu', bias_regularizer=l2(0.005), kernel_initializer='glorot_uniform')) # softmax changed to relu\n",
    "\n",
    "# network.compile(optimizer=RMSprop(learning_rate=1e-4, rho=0.9, epsilon=1e-08),loss=\"binary_crossentropy\",metrics=[\"accuracy\"])\n",
    "# network.summary()"
   ]
  },
  {
   "cell_type": "code",
   "execution_count": 8,
   "metadata": {},
   "outputs": [],
   "source": [
    "# model1 = tf.keras.applications.MobileNetV2(input_shape=(224, 224, 3), include_top=False, weights='imagenet')"
   ]
  },
  {
   "cell_type": "code",
   "execution_count": 9,
   "metadata": {},
   "outputs": [],
   "source": [
    "# Create the base model from the pre-trained model MobileNet V2\n",
    "# base_model = tf.keras.applications.MobileNetV3Large(input_shape=(224, 224, 3),\n",
    "#                                                include_top=False,\n",
    "#                                                weights='imagenet'\n",
    "#                                                )\n",
    "# base_model.trainable = False\n",
    "                                               \n",
    "# global_average_layer = tf.keras.layers.GlobalAveragePooling2D()\n",
    "# prediction_layer = keras.layers.Dense(1)\n",
    "\n",
    "# network = tf.keras.Sequential([\n",
    "#   base_model,\n",
    "#   global_average_layer,\n",
    "#   prediction_layer\n",
    "# ])\n",
    "\n",
    "# base_learning_rate = 0.001\n",
    "# network.compile(optimizer=tf.keras.optimizers.RMSprop(learning_rate=base_learning_rate),\n",
    "#               loss=tf.keras.losses.BinaryCrossentropy(from_logits=True),\n",
    "#               metrics=['accuracy'])\n",
    "\n",
    "# network.compile(optimizer=Adam(learning_rate=0.001),loss=\"binary_crossentropy\",metrics=[\"accuracy\"])"
   ]
  },
  {
   "cell_type": "code",
   "execution_count": 10,
   "metadata": {},
   "outputs": [],
   "source": [
    "# from keras.applications import MobileNetV2, MobileNetV3Small, Xception\n",
    "# from keras.callbacks import ModelCheckpoint, LearningRateScheduler, EarlyStopping, ReduceLROnPlateau, TensorBoard\n",
    "\n",
    "# EPOCHS = 20\n",
    "# BATCH_SIZE = 1\n",
    "\n",
    "# earlyStopping = EarlyStopping(monitor='val_loss',\n",
    "#                               min_delta=0,\n",
    "#                               patience=3,\n",
    "#                               verbose=1)\n",
    "\n",
    "# callback_early_stop_reduceLROnPlateau=[earlyStopping]\n",
    "\n",
    "# global_average_layer = tf.keras.layers.GlobalAveragePooling2D()\n",
    "# prediction_layer = keras.layers.Dense(1)\n",
    "\n",
    "# base_model1 = MobileNetV2(input_shape=(224, 224, 3), include_top=False, weights='imagenet')\n",
    "# model1 = Sequential([base_model1, global_average_layer, prediction_layer])\n",
    "# model1.compile(optimizer=Adam(learning_rate=0.001),loss=\"binary_crossentropy\",metrics=[\"accuracy\"])\n",
    "# progress1 = model1.fit(train_data,train_labels, batch_size=BATCH_SIZE,epochs=EPOCHS, callbacks=callback_early_stop_reduceLROnPlateau,validation_split=.05)\n",
    "\n",
    "# base_model2 = MobileNetV3Small(input_shape=(224, 224, 3), include_top=False, weights='imagenet')\n",
    "# model2 = Sequential([base_model2, global_average_layer, prediction_layer])\n",
    "# model2.compile(optimizer=Adam(learning_rate=0.001),loss=\"binary_crossentropy\",metrics=[\"accuracy\"])\n",
    "# progress2 = model2.fit(train_data,train_labels, batch_size=BATCH_SIZE,epochs=EPOCHS, callbacks=callback_early_stop_reduceLROnPlateau,validation_split=.05)\n",
    "\n",
    "# base_model3 = Xception(input_shape=(224, 224, 3), include_top=False, weights='imagenet')\n",
    "# model3 = Sequential([base_model3, global_average_layer, prediction_layer])\n",
    "# model3.compile(optimizer=Adam(learning_rate=0.001),loss=\"binary_crossentropy\",metrics=[\"accuracy\"])\n",
    "# progess3 = model3.fit(train_data,train_labels, batch_size=BATCH_SIZE,epochs=EPOCHS, callbacks=callback_early_stop_reduceLROnPlateau,validation_split=.05)"
   ]
  },
  {
   "cell_type": "code",
   "execution_count": 11,
   "metadata": {},
   "outputs": [
    {
     "name": "stdout",
     "output_type": "stream",
     "text": [
      "Model: \"sequential\"\n",
      "_________________________________________________________________\n",
      " Layer (type)                Output Shape              Param #   \n",
      "=================================================================\n",
      " conv2d (Conv2D)             (None, 222, 222, 64)      1792      \n",
      "                                                                 \n",
      " max_pooling2d (MaxPooling2D  (None, 74, 74, 64)       0         \n",
      " )                                                               \n",
      "                                                                 \n",
      " conv2d_1 (Conv2D)           (None, 72, 72, 32)        18464     \n",
      "                                                                 \n",
      " max_pooling2d_1 (MaxPooling  (None, 36, 36, 32)       0         \n",
      " 2D)                                                             \n",
      "                                                                 \n",
      " flatten (Flatten)           (None, 41472)             0         \n",
      "                                                                 \n",
      " dense (Dense)               (None, 128)               5308544   \n",
      "                                                                 \n",
      " dropout (Dropout)           (None, 128)               0         \n",
      "                                                                 \n",
      " dense_1 (Dense)             (None, 2)                 258       \n",
      "                                                                 \n",
      "=================================================================\n",
      "Total params: 5,329,058\n",
      "Trainable params: 5,329,058\n",
      "Non-trainable params: 0\n",
      "_________________________________________________________________\n"
     ]
    },
    {
     "name": "stderr",
     "output_type": "stream",
     "text": [
      "c:\\Users\\mapan\\AppData\\Local\\Programs\\Python\\Python310\\lib\\site-packages\\keras\\optimizers\\optimizer_v2\\adam.py:110: UserWarning: The `lr` argument is deprecated, use `learning_rate` instead.\n",
      "  super(Adam, self).__init__(name, **kwargs)\n"
     ]
    }
   ],
   "source": [
    "from keras.models import Sequential\n",
    "from keras.layers import Conv2D,MaxPooling2D,Flatten,Dense,Dropout\n",
    "from keras_preprocessing.image import ImageDataGenerator\n",
    "from sklearn.metrics import confusion_matrix as CM\n",
    "from keras.optimizers import Adam\n",
    "\n",
    "network = Sequential()\n",
    "\n",
    "network.add(Conv2D(64,(3,3),input_shape=(224,224,3),activation='relu'))\n",
    "network.add(MaxPooling2D(3,3))\n",
    "network.add(Conv2D(32,(3,3),activation='relu'))\n",
    "network.add(MaxPooling2D(2,2))\n",
    "network.add(Flatten())\n",
    "network.add(Dense(128,activation = 'relu'))\n",
    "network.add(Dropout(rate=0.3))\n",
    "network.add(Dense(2,activation = 'softmax'))\n",
    "\n",
    "network.compile(optimizer=Adam(lr=0.001),loss=\"binary_crossentropy\",metrics=[\"accuracy\"])\n",
    "network.summary()"
   ]
  },
  {
   "cell_type": "code",
   "execution_count": 12,
   "metadata": {},
   "outputs": [
    {
     "name": "stdout",
     "output_type": "stream",
     "text": [
      "Epoch 1/40\n"
     ]
    },
    {
     "ename": "ValueError",
     "evalue": "in user code:\n\n    File \"c:\\Users\\mapan\\AppData\\Local\\Programs\\Python\\Python310\\lib\\site-packages\\keras\\engine\\training.py\", line 1051, in train_function  *\n        return step_function(self, iterator)\n    File \"c:\\Users\\mapan\\AppData\\Local\\Programs\\Python\\Python310\\lib\\site-packages\\keras\\engine\\training.py\", line 1040, in step_function  **\n        outputs = model.distribute_strategy.run(run_step, args=(data,))\n    File \"c:\\Users\\mapan\\AppData\\Local\\Programs\\Python\\Python310\\lib\\site-packages\\keras\\engine\\training.py\", line 1030, in run_step  **\n        outputs = model.train_step(data)\n    File \"c:\\Users\\mapan\\AppData\\Local\\Programs\\Python\\Python310\\lib\\site-packages\\keras\\engine\\training.py\", line 890, in train_step\n        loss = self.compute_loss(x, y, y_pred, sample_weight)\n    File \"c:\\Users\\mapan\\AppData\\Local\\Programs\\Python\\Python310\\lib\\site-packages\\keras\\engine\\training.py\", line 948, in compute_loss\n        return self.compiled_loss(\n    File \"c:\\Users\\mapan\\AppData\\Local\\Programs\\Python\\Python310\\lib\\site-packages\\keras\\engine\\compile_utils.py\", line 201, in __call__\n        loss_value = loss_obj(y_t, y_p, sample_weight=sw)\n    File \"c:\\Users\\mapan\\AppData\\Local\\Programs\\Python\\Python310\\lib\\site-packages\\keras\\losses.py\", line 139, in __call__\n        losses = call_fn(y_true, y_pred)\n    File \"c:\\Users\\mapan\\AppData\\Local\\Programs\\Python\\Python310\\lib\\site-packages\\keras\\losses.py\", line 243, in call  **\n        return ag_fn(y_true, y_pred, **self._fn_kwargs)\n    File \"c:\\Users\\mapan\\AppData\\Local\\Programs\\Python\\Python310\\lib\\site-packages\\keras\\losses.py\", line 1930, in binary_crossentropy\n        backend.binary_crossentropy(y_true, y_pred, from_logits=from_logits),\n    File \"c:\\Users\\mapan\\AppData\\Local\\Programs\\Python\\Python310\\lib\\site-packages\\keras\\backend.py\", line 5283, in binary_crossentropy\n        return tf.nn.sigmoid_cross_entropy_with_logits(labels=target, logits=output)\n\n    ValueError: `logits` and `labels` must have the same shape, received ((1, 2) vs (1, 1)).\n",
     "output_type": "error",
     "traceback": [
      "\u001b[1;31m---------------------------------------------------------------------------\u001b[0m",
      "\u001b[1;31mValueError\u001b[0m                                Traceback (most recent call last)",
      "\u001b[1;32mc:\\xampp\\htdocs\\SIGNIFY\\verificator\\model_ver2.ipynb Cell 12\u001b[0m in \u001b[0;36m<cell line: 12>\u001b[1;34m()\u001b[0m\n\u001b[0;32m     <a href='vscode-notebook-cell:/c%3A/xampp/htdocs/SIGNIFY/verificator/model_ver2.ipynb#X13sZmlsZQ%3D%3D?line=9'>10</a>\u001b[0m EPOCHS \u001b[39m=\u001b[39m \u001b[39m40\u001b[39m\n\u001b[0;32m     <a href='vscode-notebook-cell:/c%3A/xampp/htdocs/SIGNIFY/verificator/model_ver2.ipynb#X13sZmlsZQ%3D%3D?line=10'>11</a>\u001b[0m BS \u001b[39m=\u001b[39m \u001b[39m1\u001b[39m\n\u001b[1;32m---> <a href='vscode-notebook-cell:/c%3A/xampp/htdocs/SIGNIFY/verificator/model_ver2.ipynb#X13sZmlsZQ%3D%3D?line=11'>12</a>\u001b[0m progess \u001b[39m=\u001b[39m network\u001b[39m.\u001b[39;49mfit(train_data,train_labels, batch_size\u001b[39m=\u001b[39;49mBS,epochs\u001b[39m=\u001b[39;49mEPOCHS, callbacks\u001b[39m=\u001b[39;49mcallback_early_stop_reduceLROnPlateau,validation_split\u001b[39m=\u001b[39;49m\u001b[39m.05\u001b[39;49m)\n",
      "File \u001b[1;32mc:\\Users\\mapan\\AppData\\Local\\Programs\\Python\\Python310\\lib\\site-packages\\keras\\utils\\traceback_utils.py:67\u001b[0m, in \u001b[0;36mfilter_traceback.<locals>.error_handler\u001b[1;34m(*args, **kwargs)\u001b[0m\n\u001b[0;32m     65\u001b[0m \u001b[39mexcept\u001b[39;00m \u001b[39mException\u001b[39;00m \u001b[39mas\u001b[39;00m e:  \u001b[39m# pylint: disable=broad-except\u001b[39;00m\n\u001b[0;32m     66\u001b[0m   filtered_tb \u001b[39m=\u001b[39m _process_traceback_frames(e\u001b[39m.\u001b[39m__traceback__)\n\u001b[1;32m---> 67\u001b[0m   \u001b[39mraise\u001b[39;00m e\u001b[39m.\u001b[39mwith_traceback(filtered_tb) \u001b[39mfrom\u001b[39;00m \u001b[39mNone\u001b[39m\n\u001b[0;32m     68\u001b[0m \u001b[39mfinally\u001b[39;00m:\n\u001b[0;32m     69\u001b[0m   \u001b[39mdel\u001b[39;00m filtered_tb\n",
      "File \u001b[1;32m~\\AppData\\Local\\Temp\\__autograph_generated_filezxq2mi5d.py:15\u001b[0m, in \u001b[0;36mouter_factory.<locals>.inner_factory.<locals>.tf__train_function\u001b[1;34m(iterator)\u001b[0m\n\u001b[0;32m     13\u001b[0m \u001b[39mtry\u001b[39;00m:\n\u001b[0;32m     14\u001b[0m     do_return \u001b[39m=\u001b[39m \u001b[39mTrue\u001b[39;00m\n\u001b[1;32m---> 15\u001b[0m     retval_ \u001b[39m=\u001b[39m ag__\u001b[39m.\u001b[39mconverted_call(ag__\u001b[39m.\u001b[39mld(step_function), (ag__\u001b[39m.\u001b[39mld(\u001b[39mself\u001b[39m), ag__\u001b[39m.\u001b[39mld(iterator)), \u001b[39mNone\u001b[39;00m, fscope)\n\u001b[0;32m     16\u001b[0m \u001b[39mexcept\u001b[39;00m:\n\u001b[0;32m     17\u001b[0m     do_return \u001b[39m=\u001b[39m \u001b[39mFalse\u001b[39;00m\n",
      "\u001b[1;31mValueError\u001b[0m: in user code:\n\n    File \"c:\\Users\\mapan\\AppData\\Local\\Programs\\Python\\Python310\\lib\\site-packages\\keras\\engine\\training.py\", line 1051, in train_function  *\n        return step_function(self, iterator)\n    File \"c:\\Users\\mapan\\AppData\\Local\\Programs\\Python\\Python310\\lib\\site-packages\\keras\\engine\\training.py\", line 1040, in step_function  **\n        outputs = model.distribute_strategy.run(run_step, args=(data,))\n    File \"c:\\Users\\mapan\\AppData\\Local\\Programs\\Python\\Python310\\lib\\site-packages\\keras\\engine\\training.py\", line 1030, in run_step  **\n        outputs = model.train_step(data)\n    File \"c:\\Users\\mapan\\AppData\\Local\\Programs\\Python\\Python310\\lib\\site-packages\\keras\\engine\\training.py\", line 890, in train_step\n        loss = self.compute_loss(x, y, y_pred, sample_weight)\n    File \"c:\\Users\\mapan\\AppData\\Local\\Programs\\Python\\Python310\\lib\\site-packages\\keras\\engine\\training.py\", line 948, in compute_loss\n        return self.compiled_loss(\n    File \"c:\\Users\\mapan\\AppData\\Local\\Programs\\Python\\Python310\\lib\\site-packages\\keras\\engine\\compile_utils.py\", line 201, in __call__\n        loss_value = loss_obj(y_t, y_p, sample_weight=sw)\n    File \"c:\\Users\\mapan\\AppData\\Local\\Programs\\Python\\Python310\\lib\\site-packages\\keras\\losses.py\", line 139, in __call__\n        losses = call_fn(y_true, y_pred)\n    File \"c:\\Users\\mapan\\AppData\\Local\\Programs\\Python\\Python310\\lib\\site-packages\\keras\\losses.py\", line 243, in call  **\n        return ag_fn(y_true, y_pred, **self._fn_kwargs)\n    File \"c:\\Users\\mapan\\AppData\\Local\\Programs\\Python\\Python310\\lib\\site-packages\\keras\\losses.py\", line 1930, in binary_crossentropy\n        backend.binary_crossentropy(y_true, y_pred, from_logits=from_logits),\n    File \"c:\\Users\\mapan\\AppData\\Local\\Programs\\Python\\Python310\\lib\\site-packages\\keras\\backend.py\", line 5283, in binary_crossentropy\n        return tf.nn.sigmoid_cross_entropy_with_logits(labels=target, logits=output)\n\n    ValueError: `logits` and `labels` must have the same shape, received ((1, 2) vs (1, 1)).\n"
     ]
    }
   ],
   "source": [
    "from keras.callbacks import ModelCheckpoint, LearningRateScheduler, EarlyStopping, ReduceLROnPlateau, TensorBoard\n",
    "earlyStopping = EarlyStopping(monitor='val_loss',\n",
    "                              min_delta=0,\n",
    "                              patience=3,\n",
    "                              verbose=1)\n",
    "\n",
    "callback_early_stop_reduceLROnPlateau=[earlyStopping]\n",
    "\n",
    "\n",
    "EPOCHS = 40\n",
    "BS = 1\n",
    "progess = network.fit(train_data,train_labels, batch_size=BS,epochs=EPOCHS, callbacks=callback_early_stop_reduceLROnPlateau,validation_split=.05)"
   ]
  },
  {
   "cell_type": "code",
   "execution_count": null,
   "metadata": {},
   "outputs": [],
   "source": [
    "acc = progess.history['accuracy']\n",
    "val_acc = progess.history['val_accuracy']\n",
    "loss = progess.history['loss']\n",
    "val_loss = progess.history['val_loss']\n",
    " \n",
    "epochs = range(len(acc))\n",
    " \n",
    "plt.plot(epochs, acc, 'b', label='Training acc')\n",
    "plt.plot(epochs, val_acc, 'r', label='Validation acc')\n",
    "plt.title('Training and validation accuracy')\n",
    "plt.legend()\n",
    "\n",
    "plt.plot(epochs, loss, 'b', label='Training loss')\n",
    "plt.plot(epochs, val_loss, 'r', label='Validation loss')\n",
    "plt.title('Training and validation loss')\n",
    "plt.legend()\n",
    " \n",
    "plt.show()\n",
    " \n",
    "plt.figure()"
   ]
  },
  {
   "cell_type": "code",
   "execution_count": null,
   "metadata": {},
   "outputs": [],
   "source": [
    "# pred = network.predict(test_data)\n",
    "\n",
    "# pred\n",
    "\n",
    "# from sklearn.metrics import accuracy_score\n",
    "\n",
    "# accuracy_score(pred.argmax(axis=1), test_labels)\n",
    "\n",
    "test_loss, test_acc = network.evaluate(test_data, test_labels, verbose=1) \n",
    "print(\"Test Accuracy:\", test_acc)"
   ]
  },
  {
   "cell_type": "code",
   "execution_count": null,
   "metadata": {},
   "outputs": [],
   "source": [
    "# network.save(\"ver2_testmodel1.h5\")  #saving the model"
   ]
  }
 ],
 "metadata": {
  "kernelspec": {
   "display_name": "DSPproject",
   "language": "python",
   "name": "python3"
  },
  "language_info": {
   "codemirror_mode": {
    "name": "ipython",
    "version": 3
   },
   "file_extension": ".py",
   "mimetype": "text/x-python",
   "name": "python",
   "nbconvert_exporter": "python",
   "pygments_lexer": "ipython3",
   "version": "3.11.0 | packaged by conda-forge | (main, Oct 25 2022, 06:09:06) [MSC v.1929 64 bit (AMD64)]"
  },
  "orig_nbformat": 4,
  "vscode": {
   "interpreter": {
    "hash": "733848c0554a72607eb7209dd9b3736d1bda6ab6215e36bf3cdee38b2d1dbd33"
   }
  }
 },
 "nbformat": 4,
 "nbformat_minor": 2
}
