{
 "cells": [
  {
   "cell_type": "code",
   "execution_count": 115,
   "metadata": {},
   "outputs": [],
   "source": [
    "import glob, os\n",
    "from pathlib import Path\n",
    "import cv2\n",
    "import matplotlib.pyplot as plt\n",
    "import numpy as np"
   ]
  },
  {
   "cell_type": "code",
   "execution_count": 122,
   "metadata": {},
   "outputs": [],
   "source": [
    "gen = [glob.glob('sign_data_ver2/Dataset_Signature_Final/Dataset/dataset1/real/*.*'),\n",
    "       glob.glob('sign_data_ver2/Dataset_Signature_Final/Dataset/dataset2/real/*.*'),\n",
    "       glob.glob('sign_data_ver2/Dataset_Signature_Final/Dataset/dataset3/real/*.*'),\n",
    "       glob.glob('sign_data_ver2/Dataset_Signature_Final/Dataset/dataset4/real/*.*')]\n",
    "                 \n",
    "forg = [glob.glob('sign_data_ver2/Dataset_Signature_Final/Dataset/dataset1/forge/*.*'),\n",
    "        glob.glob('sign_data_ver2/Dataset_Signature_Final/Dataset/dataset2/forge/*.*'),\n",
    "        glob.glob('sign_data_ver2/Dataset_Signature_Final/Dataset/dataset3/forge/*.*'),\n",
    "        glob.glob('sign_data_ver2/Dataset_Signature_Final/Dataset/dataset4/forge/*.*')] "
   ]
  },
  {
   "cell_type": "code",
   "execution_count": 121,
   "metadata": {},
   "outputs": [],
   "source": [
    "image = cv2.imread(gen[3][14], cv2.IMREAD_GRAYSCALE)\n",
    "image = cv2.resize(image, (224, 224))\n",
    "cv2.imwrite(os.path.join('test' , 'waka.jpg'), image)\n",
    "\n",
    "# threshold to binary\n",
    "thresh = cv2.threshold(image, 190, 255, cv2.THRESH_BINARY)[1]\n",
    "\n",
    "PATH_TRAIN_REAL = \"img_binary/train/real\"\n",
    "PATH_TRAIN_FORG = \"img_binary/train/forg\"\n",
    "PATH_TEST_REAL = \"img_binary/test/real\"\n",
    "PATH_TEST_FORG = \"img_binary/test/forg\"\n",
    "\n",
    "Path(PATH_TRAIN_REAL).mkdir(parents=True, exist_ok=True)\n",
    "Path(PATH_TRAIN_FORG).mkdir(parents=True, exist_ok=True)\n",
    "Path(PATH_TEST_REAL).mkdir(parents=True, exist_ok=True)\n",
    "Path(PATH_TEST_FORG).mkdir(parents=True, exist_ok=True)\n",
    "\n",
    "for data in range(len(gen)):\n",
    "    for i in range(len(gen[data])):\n",
    "        if data == 3:\n",
    "            image = cv2.imread(gen[data][i], cv2.IMREAD_GRAYSCALE)\n",
    "            image = cv2.resize(image, (224, 224))\n",
    "            thresh = cv2.threshold(image, 190, 255, cv2.THRESH_BINARY)[1]\n",
    "            cv2.imwrite(os.path.join(PATH_TEST_REAL, os.path.basename(gen[data][i])), thresh)\n",
    "            cv2.waitKey(0)\n",
    "\n",
    "        else:\n",
    "            image = cv2.imread(gen[data][i], cv2.IMREAD_GRAYSCALE)\n",
    "            image = cv2.resize(image, (224, 224))\n",
    "            thresh = cv2.threshold(image, 190, 255, cv2.THRESH_BINARY)[1]\n",
    "            cv2.imwrite(os.path.join(PATH_TRAIN_REAL, os.path.basename(gen[data][i])), thresh)\n",
    "            cv2.waitKey(0)\n",
    "\n",
    "        \n",
    "for data in range(len(forg)):\n",
    "    for j in range(len(forg[data])):\n",
    "        if data == 3:\n",
    "            image = cv2.imread(forg[data][j], cv2.IMREAD_GRAYSCALE)\n",
    "            image = cv2.resize(image, (224, 224))\n",
    "            thresh = cv2.threshold(image, 190, 255, cv2.THRESH_BINARY)[1]\n",
    "            cv2.imwrite(os.path.join(PATH_TEST_FORG, os.path.basename(forg[data][j])), thresh)\n",
    "            cv2.waitKey(0)\n",
    "\n",
    "        else:\n",
    "            image = cv2.imread(forg[data][j], cv2.IMREAD_GRAYSCALE)\n",
    "            image = cv2.resize(image, (224, 224))\n",
    "            thresh = cv2.threshold(image, 190, 255, cv2.THRESH_BINARY)[1]\n",
    "            cv2.imwrite(os.path.join(PATH_TRAIN_FORG, os.path.basename(forg[data][j])), thresh)\n",
    "            cv2.waitKey(0)\n",
    "\n",
    "# # apply morphology\n",
    "# kernel = cv2.getStructuringElement(cv2.MORPH_ELLIPSE, (2,2))\n",
    "# morph = cv2.erode(thresh, kernel)\n",
    "# morph = cv2.dilate(morph, kernel)\n",
    "\n",
    "# # find contours & draw only valid contour edges on a black image\n",
    "# letter = np.zeros_like(image)\n",
    "# cntrs, hier = cv2.findContours(morph, cv2.RETR_TREE, cv2.CHAIN_APPROX_SIMPLE)\n",
    "# for idx, c in enumerate(cntrs):\n",
    "#     area = cv2.contourArea(c)\n",
    "#     if area > 100:\n",
    "#         cv2.drawContours(letter, cntrs, idx, 255, 1, 8, hier)\n",
    "\n",
    "# ax[1, 0].set_title(\"Morph\")\n",
    "# ax[1, 0].imshow(morph, cmap=plt.get_cmap('gray'))\n",
    "# ax[1, 1].set_title(\"Letter\")\n",
    "# ax[1, 1].imshow(letter, cmap=plt.get_cmap('gray'))"
   ]
  },
  {
   "cell_type": "code",
   "execution_count": null,
   "metadata": {},
   "outputs": [],
   "source": []
  }
 ],
 "metadata": {
  "kernelspec": {
   "display_name": "Python 3",
   "language": "python",
   "name": "python3"
  },
  "language_info": {
   "codemirror_mode": {
    "name": "ipython",
    "version": 3
   },
   "file_extension": ".py",
   "mimetype": "text/x-python",
   "name": "python",
   "nbconvert_exporter": "python",
   "pygments_lexer": "ipython3",
   "version": "3.10.9 (tags/v3.10.9:1dd9be6, Dec  6 2022, 20:01:21) [MSC v.1934 64 bit (AMD64)]"
  },
  "orig_nbformat": 4,
  "vscode": {
   "interpreter": {
    "hash": "ac209536f6acf79e580d00c1ac3090d6f4178d82fa7a9c4f4edd3c5b57d297d0"
   }
  }
 },
 "nbformat": 4,
 "nbformat_minor": 2
}
